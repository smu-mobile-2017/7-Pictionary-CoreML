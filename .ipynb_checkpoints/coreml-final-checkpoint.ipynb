{
 "cells": [
  {
   "cell_type": "code",
   "execution_count": 1,
   "metadata": {},
   "outputs": [],
   "source": [
    "from __future__ import print_function\n",
    "from future_builtins import map, filter, zip"
   ]
  },
  {
   "cell_type": "code",
   "execution_count": 2,
   "metadata": {},
   "outputs": [
    {
     "name": "stderr",
     "output_type": "stream",
     "text": [
      "Using TensorFlow backend.\n",
      "WARNING:root:Keras version 2.1.1 detected. Last version known to be fully compatible of Keras is 2.0.6 .\n",
      "WARNING:root:TensorFlow version 1.4.0 detected. Last version known to be fully compatible is 1.2.1 .\n"
     ]
    },
    {
     "name": "stdout",
     "output_type": "stream",
     "text": [
      "tensorflow v1.4.0\n",
      "keras v2.1.1\n",
      "coremltools v?\n",
      "numpy v1.13.3\n"
     ]
    }
   ],
   "source": [
    "import tensorflow as tf\n",
    "import keras\n",
    "import coremltools\n",
    "import numpy as np\n",
    "\n",
    "for name, package in [('tensorflow',tf), ('keras',keras), ('coremltools',coremltools), ('numpy', np)]:\n",
    "    try:\n",
    "        print(name + ' v' + package.__version__)\n",
    "    except AttributeError:\n",
    "        print(name + ' v?')"
   ]
  },
  {
   "cell_type": "code",
   "execution_count": 3,
   "metadata": {},
   "outputs": [],
   "source": [
    "# Load newline-delimited list of categories\n",
    "\n",
    "# f = open('quickdraw-categories.txt','r')\n",
    "f = open('50-categories.txt','r')\n",
    "categories = [line.rstrip() for line in f]\n",
    "f.close()\n",
    "\n",
    "filename_from_category = lambda s: '../../quickdraw/'+s+'.npy'\n",
    "filenames = list(map(filename_from_category, categories))"
   ]
  },
  {
   "cell_type": "code",
   "execution_count": 4,
   "metadata": {},
   "outputs": [
    {
     "name": "stdout",
     "output_type": "stream",
     "text": [
      "All 50 files found!\n"
     ]
    }
   ],
   "source": [
    "# Test that all files exist according to categories\n",
    "# in quickdraw-categories.txt\n",
    "\n",
    "import os.path\n",
    "\n",
    "all_exist = True\n",
    "for filename in filenames:\n",
    "    if not os.path.isfile(filename):\n",
    "        print('file `{}` does not exist'.format(filename))\n",
    "        all_exist = False\n",
    "if all_exist:\n",
    "    print('All {} files found!'.format(len(categories)))"
   ]
  },
  {
   "cell_type": "code",
   "execution_count": 5,
   "metadata": {},
   "outputs": [],
   "source": [
    "image_size = (28,28)\n",
    "samples_per_category = 25000"
   ]
  },
  {
   "cell_type": "code",
   "execution_count": 6,
   "metadata": {},
   "outputs": [],
   "source": [
    "def one_hot_vector(index):\n",
    "    hot = np.zeros(len(categories),dtype=np.int8)\n",
    "    hot[index] = 1\n",
    "    return hot\n",
    "\n",
    "def one_hot_array(index):\n",
    "    is_column = False\n",
    "    hot = np.zeros((1,len(categories)),dtype=np.int8)\n",
    "    hot[0,index] = 1\n",
    "    if is_column:\n",
    "        return hot.T\n",
    "    else:\n",
    "        return hot"
   ]
  },
  {
   "cell_type": "code",
   "execution_count": 8,
   "metadata": {},
   "outputs": [],
   "source": [
    "import random\n",
    "\n",
    "def make_dataset():\n",
    "    data = []\n",
    "    target = []\n",
    "    for category_index, (category, filename) in enumerate(zip(categories, filenames)):\n",
    "        label_one_hot_encoded = one_hot_vector(category_index)\n",
    "        category_images = np.load(filename)\n",
    "        n_images = category_images.shape[0]\n",
    "        for image in category_images[:samples_per_category]:\n",
    "            data.append(image)\n",
    "            target.append(label_one_hot_encoded)\n",
    "    data = np.array(data)\n",
    "    data = np.expand_dims(data, axis=1)\n",
    "    target = np.array(target)\n",
    "    print(data.shape)\n",
    "    print(target.shape)\n",
    "    return (data, target)"
   ]
  },
  {
   "cell_type": "code",
   "execution_count": 9,
   "metadata": {},
   "outputs": [],
   "source": [
    "import keras\n",
    "from keras.models import Sequential\n",
    "from keras.layers import Reshape, Dense, BatchNormalization, Dropout, \\\n",
    "                         Conv2D, MaxPooling2D, Activation, Flatten, Lambda\n",
    "\n",
    "def _make_convolution_layers(model):\n",
    "    model.add(\n",
    "        Reshape(\n",
    "            (1, input_shape[0], input_shape[1]), \n",
    "            input_shape=(1, input_shape[0]*input_shape[1])\n",
    "        )\n",
    "    )\n",
    "    \n",
    "    model.add(\n",
    "        Lambda(lambda x: x/127.5-1)\n",
    "    )\n",
    "\n",
    "    for filters in n_filters:\n",
    "        # Add a single convolution layer\n",
    "        model.add(\n",
    "            Conv2D(\n",
    "                filters=filters,\n",
    "                kernel_size=(3,3),\n",
    "                padding='same',\n",
    "                activation=layer_activation\n",
    "            )\n",
    "        )\n",
    "        # Add batch normalization to the convolution layer\n",
    "        if batch_normalize:\n",
    "            model.add(\n",
    "                BatchNormalization(axis=1)\n",
    "            )\n",
    "        # Pool the layer\n",
    "        model.add(\n",
    "            MaxPooling2D(pool_size=(2,2), data_format='channels_first')\n",
    "        )\n",
    "\n",
    "    model.add(Flatten())\n",
    "\n",
    "def _make_dense_layers(model):\n",
    "    for size in dense_sizes:\n",
    "        model.add(\n",
    "            Dense(size, activation=layer_activation)\n",
    "        )\n",
    "        if batch_normalize:\n",
    "            model.add(\n",
    "                BatchNormalization(axis=1)\n",
    "            )\n",
    "    model.add(\n",
    "        Dense(output_size, activation=final_activation)\n",
    "    )\n",
    "\n",
    "def one_hot_output(y_hat_raw):\n",
    "    # predict() outputs floats. We want one-hot in most cases\n",
    "    y_hat = np.zeros(y_hat_raw.shape, dtype=np.int)\n",
    "    y_hat[np.arange(y_hat_raw.shape[0]), y_hat_raw.argmax(1)] = 1\n",
    "    return y_hat"
   ]
  },
  {
   "cell_type": "code",
   "execution_count": 10,
   "metadata": {},
   "outputs": [
    {
     "name": "stdout",
     "output_type": "stream",
     "text": [
      "(1250000, 1, 784)\n",
      "(1250000, 50)\n"
     ]
    }
   ],
   "source": [
    "data, target = make_dataset()"
   ]
  },
  {
   "cell_type": "code",
   "execution_count": 11,
   "metadata": {},
   "outputs": [],
   "source": [
    "import os.path\n",
    "from keras.models import load_model\n",
    "import json\n",
    "\n",
    "def cache_fit(model_name, model, *args, **kwargs):\n",
    "    archive_name = model_name+'_model.h5'\n",
    "    history_name = model_name+'_history.json'\n",
    "    archive_exists = os.path.isfile(archive_name)\n",
    "\n",
    "    if not archive_exists:\n",
    "        print('Model '+model_name+' not found in archive. Training new model.')\n",
    "        hist = model.fit(*args, **kwargs)\n",
    "        model.save(archive_name)\n",
    "        with open(history_name, 'w') as f:\n",
    "            json.dump(hist.history, f)\n",
    "        return model\n",
    "    else:\n",
    "        print('Model found on disk. Reloading.')\n",
    "        return load_model(archive_name)"
   ]
  },
  {
   "cell_type": "code",
   "execution_count": 14,
   "metadata": {},
   "outputs": [
    {
     "name": "stdout",
     "output_type": "stream",
     "text": [
      "Model cnn_50cat_25000img_8ep_morefilters not found in archive. Training new model.\n",
      "Epoch 1/8\n",
      "1250000/1250000 [==============================] - 240s 192us/step - loss: 0.7689 - categorical_accuracy: 0.7925\n",
      "Epoch 2/8\n",
      "1250000/1250000 [==============================] - 240s 192us/step - loss: 0.5813 - categorical_accuracy: 0.8441\n",
      "Epoch 3/8\n",
      "1250000/1250000 [==============================] - 240s 192us/step - loss: 0.5368 - categorical_accuracy: 0.8559\n",
      "Epoch 4/8\n",
      "1250000/1250000 [==============================] - 240s 192us/step - loss: 0.5117 - categorical_accuracy: 0.8624\n",
      "Epoch 5/8\n",
      "1250000/1250000 [==============================] - 240s 192us/step - loss: 0.4954 - categorical_accuracy: 0.8669\n",
      "Epoch 6/8\n",
      "1250000/1250000 [==============================] - 240s 192us/step - loss: 0.4830 - categorical_accuracy: 0.8702\n",
      "Epoch 7/8\n",
      "1250000/1250000 [==============================] - 240s 192us/step - loss: 0.4730 - categorical_accuracy: 0.8728\n",
      "Epoch 8/8\n",
      "1250000/1250000 [==============================] - 240s 192us/step - loss: 0.4655 - categorical_accuracy: 0.8748\n"
     ]
    }
   ],
   "source": [
    "input_shape=image_size\n",
    "n_filters=[64,64,128,128]\n",
    "dense_sizes=[128,128]\n",
    "output_size=len(categories)\n",
    "\n",
    "batch_normalize = True\n",
    "\n",
    "layer_activation='relu'\n",
    "final_activation='softmax'\n",
    "\n",
    "loss='categorical_crossentropy'\n",
    "optimizer='Nadam'\n",
    "metrics=['categorical_accuracy']\n",
    "\n",
    "#########\n",
    "\n",
    "model = Sequential()\n",
    "\n",
    "_make_convolution_layers(model)\n",
    "_make_dense_layers(model)\n",
    "\n",
    "model.compile(\n",
    "    loss=loss,\n",
    "    optimizer=optimizer,\n",
    "    metrics=metrics\n",
    ")\n",
    "\n",
    "model = cache_fit(\n",
    "    'cnn_50cat_25000img_8ep_morefilters', model, \n",
    "    x=data, y=target, \n",
    "    batch_size=32, epochs=8, \n",
    "    verbose=1, shuffle=True\n",
    ")"
   ]
  },
  {
   "cell_type": "code",
   "execution_count": 15,
   "metadata": {},
   "outputs": [
    {
     "ename": "ValueError",
     "evalue": "Keras layer '<class 'keras.layers.core.Lambda'>' not supported. ",
     "output_type": "error",
     "traceback": [
      "\u001b[0;31m\u001b[0m",
      "\u001b[0;31mValueError\u001b[0mTraceback (most recent call last)",
      "\u001b[0;32m<ipython-input-15-5139a33802bb>\u001b[0m in \u001b[0;36m<module>\u001b[0;34m()\u001b[0m\n\u001b[1;32m      3\u001b[0m     \u001b[0minput_names\u001b[0m\u001b[0;34m=\u001b[0m\u001b[0;34m'drawing'\u001b[0m\u001b[0;34m,\u001b[0m\u001b[0;34m\u001b[0m\u001b[0m\n\u001b[1;32m      4\u001b[0m     \u001b[0mimage_input_names\u001b[0m\u001b[0;34m=\u001b[0m\u001b[0;34m'drawing'\u001b[0m\u001b[0;34m,\u001b[0m\u001b[0;34m\u001b[0m\u001b[0m\n\u001b[0;32m----> 5\u001b[0;31m     \u001b[0mclass_labels\u001b[0m\u001b[0;34m=\u001b[0m\u001b[0;34m'50-categories.txt'\u001b[0m\u001b[0;34m\u001b[0m\u001b[0m\n\u001b[0m\u001b[1;32m      6\u001b[0m )\n",
      "\u001b[0;32m/home/phrz/.local/lib/python2.7/site-packages/coremltools/converters/keras/_keras_converter.pyc\u001b[0m in \u001b[0;36mconvert\u001b[0;34m(model, input_names, output_names, image_input_names, is_bgr, red_bias, green_bias, blue_bias, gray_bias, image_scale, class_labels, predicted_feature_name, predicted_probabilities_output)\u001b[0m\n\u001b[1;32m    502\u001b[0m                                    \u001b[0mclass_labels\u001b[0m \u001b[0;34m=\u001b[0m \u001b[0mclass_labels\u001b[0m\u001b[0;34m,\u001b[0m\u001b[0;34m\u001b[0m\u001b[0m\n\u001b[1;32m    503\u001b[0m                                    \u001b[0mpredicted_feature_name\u001b[0m \u001b[0;34m=\u001b[0m \u001b[0mpredicted_feature_name\u001b[0m\u001b[0;34m,\u001b[0m\u001b[0;34m\u001b[0m\u001b[0m\n\u001b[0;32m--> 504\u001b[0;31m                                    predicted_probabilities_output = predicted_probabilities_output)\n\u001b[0m\u001b[1;32m    505\u001b[0m     \u001b[0;32melse\u001b[0m\u001b[0;34m:\u001b[0m\u001b[0;34m\u001b[0m\u001b[0m\n\u001b[1;32m    506\u001b[0m         \u001b[0;32mraise\u001b[0m \u001b[0mRuntimeError\u001b[0m\u001b[0;34m(\u001b[0m\u001b[0;34m'keras not found or unsupported version or backend found. keras conversion API is disabled.'\u001b[0m\u001b[0;34m)\u001b[0m\u001b[0;34m\u001b[0m\u001b[0m\n",
      "\u001b[0;32m/home/phrz/.local/lib/python2.7/site-packages/coremltools/converters/keras/_keras2_converter.pyc\u001b[0m in \u001b[0;36m_convert\u001b[0;34m(model, input_names, output_names, image_input_names, is_bgr, red_bias, green_bias, blue_bias, gray_bias, image_scale, class_labels, predicted_feature_name, predicted_probabilities_output)\u001b[0m\n\u001b[1;32m    158\u001b[0m \u001b[0;34m\u001b[0m\u001b[0m\n\u001b[1;32m    159\u001b[0m     \u001b[0;31m# Check valid versions\u001b[0m\u001b[0;34m\u001b[0m\u001b[0;34m\u001b[0m\u001b[0m\n\u001b[0;32m--> 160\u001b[0;31m     \u001b[0m_check_unsupported_layers\u001b[0m\u001b[0;34m(\u001b[0m\u001b[0mmodel\u001b[0m\u001b[0;34m)\u001b[0m\u001b[0;34m\u001b[0m\u001b[0m\n\u001b[0m\u001b[1;32m    161\u001b[0m \u001b[0;34m\u001b[0m\u001b[0m\n\u001b[1;32m    162\u001b[0m     \u001b[0;31m# Build network graph to represent Keras model\u001b[0m\u001b[0;34m\u001b[0m\u001b[0;34m\u001b[0m\u001b[0m\n",
      "\u001b[0;32m/home/phrz/.local/lib/python2.7/site-packages/coremltools/converters/keras/_keras2_converter.pyc\u001b[0m in \u001b[0;36m_check_unsupported_layers\u001b[0;34m(model)\u001b[0m\n\u001b[1;32m     88\u001b[0m             \u001b[0;32mif\u001b[0m \u001b[0mtype\u001b[0m\u001b[0;34m(\u001b[0m\u001b[0mlayer\u001b[0m\u001b[0;34m)\u001b[0m \u001b[0;32mnot\u001b[0m \u001b[0;32min\u001b[0m \u001b[0m_KERAS_LAYER_REGISTRY\u001b[0m\u001b[0;34m:\u001b[0m\u001b[0;34m\u001b[0m\u001b[0m\n\u001b[1;32m     89\u001b[0m                  raise ValueError(\n\u001b[0;32m---> 90\u001b[0;31m                      \"Keras layer '%s' not supported. \" % str(type(layer)))\n\u001b[0m\u001b[1;32m     91\u001b[0m             \u001b[0;32mif\u001b[0m \u001b[0misinstance\u001b[0m\u001b[0;34m(\u001b[0m\u001b[0mlayer\u001b[0m\u001b[0;34m,\u001b[0m \u001b[0m_keras\u001b[0m\u001b[0;34m.\u001b[0m\u001b[0mlayers\u001b[0m\u001b[0;34m.\u001b[0m\u001b[0mwrappers\u001b[0m\u001b[0;34m.\u001b[0m\u001b[0mTimeDistributed\u001b[0m\u001b[0;34m)\u001b[0m\u001b[0;34m:\u001b[0m\u001b[0;34m\u001b[0m\u001b[0m\n\u001b[1;32m     92\u001b[0m                 \u001b[0;32mif\u001b[0m \u001b[0mtype\u001b[0m\u001b[0;34m(\u001b[0m\u001b[0mlayer\u001b[0m\u001b[0;34m.\u001b[0m\u001b[0mlayer\u001b[0m\u001b[0;34m)\u001b[0m \u001b[0;32mnot\u001b[0m \u001b[0;32min\u001b[0m \u001b[0m_KERAS_LAYER_REGISTRY\u001b[0m\u001b[0;34m:\u001b[0m\u001b[0;34m\u001b[0m\u001b[0m\n",
      "\u001b[0;31mValueError\u001b[0m: Keras layer '<class 'keras.layers.core.Lambda'>' not supported. "
     ]
    }
   ],
   "source": [
    "coreml_model = coremltools.converters.keras.convert(\n",
    "    model, \n",
    "    input_names='drawing', \n",
    "    image_input_names='drawing', \n",
    "    class_labels='50-categories.txt'\n",
    ")"
   ]
  },
  {
   "cell_type": "code",
   "execution_count": null,
   "metadata": {},
   "outputs": [],
   "source": []
  }
 ],
 "metadata": {
  "kernelspec": {
   "display_name": "Python 2",
   "language": "python",
   "name": "python2"
  },
  "language_info": {
   "codemirror_mode": {
    "name": "ipython",
    "version": 2
   },
   "file_extension": ".py",
   "mimetype": "text/x-python",
   "name": "python",
   "nbconvert_exporter": "python",
   "pygments_lexer": "ipython2",
   "version": "2.7.14"
  }
 },
 "nbformat": 4,
 "nbformat_minor": 2
}

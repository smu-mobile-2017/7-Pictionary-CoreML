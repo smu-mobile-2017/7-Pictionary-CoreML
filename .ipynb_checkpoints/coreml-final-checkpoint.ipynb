{
 "cells": [
  {
   "cell_type": "code",
   "execution_count": 1,
   "metadata": {},
   "outputs": [],
   "source": [
    "from __future__ import print_function\n",
    "from future_builtins import map, filter, zip"
   ]
  },
  {
   "cell_type": "code",
   "execution_count": 2,
   "metadata": {},
   "outputs": [
    {
     "name": "stderr",
     "output_type": "stream",
     "text": [
      "Using TensorFlow backend.\n",
      "WARNING:root:Keras version 2.1.2 detected. Last version known to be fully compatible of Keras is 2.0.6 .\n",
      "WARNING:root:TensorFlow version 1.4.0 detected. Last version known to be fully compatible is 1.2.1 .\n"
     ]
    },
    {
     "name": "stdout",
     "output_type": "stream",
     "text": [
      "tensorflow v1.4.0\n",
      "keras v2.1.2\n",
      "coremltools v?\n",
      "numpy v1.13.3\n"
     ]
    }
   ],
   "source": [
    "import tensorflow as tf\n",
    "import keras\n",
    "import coremltools\n",
    "import numpy as np\n",
    "\n",
    "for name, package in [('tensorflow',tf), ('keras',keras), ('coremltools',coremltools), ('numpy', np)]:\n",
    "    try:\n",
    "        print(name + ' v' + package.__version__)\n",
    "    except AttributeError:\n",
    "        print(name + ' v?')"
   ]
  },
  {
   "cell_type": "code",
   "execution_count": 3,
   "metadata": {},
   "outputs": [],
   "source": [
    "# Load newline-delimited list of categories\n",
    "\n",
    "# f = open('quickdraw-categories.txt','r')\n",
    "f = open('50-categories.txt','r')\n",
    "categories = [line.rstrip() for line in f]\n",
    "f.close()\n",
    "\n",
    "filename_from_category = lambda s: '../../quickdraw/'+s+'.npy'\n",
    "filenames = list(map(filename_from_category, categories))"
   ]
  },
  {
   "cell_type": "code",
   "execution_count": 4,
   "metadata": {},
   "outputs": [
    {
     "name": "stdout",
     "output_type": "stream",
     "text": [
      "All 50 files found!\n"
     ]
    }
   ],
   "source": [
    "# Test that all files exist according to categories\n",
    "# in quickdraw-categories.txt\n",
    "\n",
    "import os.path\n",
    "\n",
    "all_exist = True\n",
    "for filename in filenames:\n",
    "    if not os.path.isfile(filename):\n",
    "        print('file `{}` does not exist'.format(filename))\n",
    "        all_exist = False\n",
    "if all_exist:\n",
    "    print('All {} files found!'.format(len(categories)))"
   ]
  },
  {
   "cell_type": "code",
   "execution_count": 5,
   "metadata": {},
   "outputs": [],
   "source": [
    "image_size = (28,28)\n",
    "samples_per_category = 25000"
   ]
  },
  {
   "cell_type": "code",
   "execution_count": 6,
   "metadata": {},
   "outputs": [],
   "source": [
    "def one_hot_vector(index):\n",
    "    hot = np.zeros(len(categories),dtype=np.int8)\n",
    "    hot[index] = 1\n",
    "    return hot\n",
    "\n",
    "def one_hot_array(index):\n",
    "    is_column = False\n",
    "    hot = np.zeros((1,len(categories)),dtype=np.int8)\n",
    "    hot[0,index] = 1\n",
    "    if is_column:\n",
    "        return hot.T\n",
    "    else:\n",
    "        return hot"
   ]
  },
  {
   "cell_type": "code",
   "execution_count": 15,
   "metadata": {},
   "outputs": [],
   "source": [
    "import random\n",
    "\n",
    "def make_dataset():\n",
    "    data = []\n",
    "    target = []\n",
    "    for category_index, (category, filename) in enumerate(zip(categories, filenames)):\n",
    "        label_one_hot_encoded = one_hot_vector(category_index)\n",
    "        category_images = np.load(filename)\n",
    "        n_images = category_images.shape[0]\n",
    "        for image in category_images[:samples_per_category]:\n",
    "            data.append(image)\n",
    "            target.append(label_one_hot_encoded)\n",
    "    data = np.array(data)\n",
    "    data = np.expand_dims(data, axis=2)\n",
    "    target = np.array(target)\n",
    "    print(data.shape)\n",
    "    print(target.shape)\n",
    "    return (data, target)"
   ]
  },
  {
   "cell_type": "code",
   "execution_count": 26,
   "metadata": {},
   "outputs": [],
   "source": [
    "import keras\n",
    "from keras.models import Sequential\n",
    "from keras.layers import Reshape, Dense, BatchNormalization, Dropout, \\\n",
    "                         Conv2D, MaxPooling2D, Activation, Flatten, Lambda\n",
    "\n",
    "def _make_convolution_layers(model):\n",
    "    model.add(\n",
    "        Reshape(\n",
    "            # input shape is height, width, channels\n",
    "            (input_shape[0], input_shape[1], 1), \n",
    "            input_shape=(1, input_shape[0]*input_shape[1])\n",
    "        )\n",
    "    )\n",
    "    \n",
    "#     model.add(\n",
    "#         Lambda(lambda x: x/127.5-1)\n",
    "#     )\n",
    "\n",
    "    for filters in n_filters:\n",
    "        # Add a single convolution layer\n",
    "        model.add(\n",
    "            Conv2D(\n",
    "                filters=filters,\n",
    "                kernel_size=(3,3),\n",
    "                padding='same',\n",
    "                activation=layer_activation\n",
    "            )\n",
    "        )\n",
    "        # Add batch normalization to the convolution layer\n",
    "        if batch_normalize:\n",
    "            model.add(\n",
    "                BatchNormalization(axis=1)\n",
    "            )\n",
    "        # Pool the layer\n",
    "        model.add(\n",
    "            # channels_last is required for coremltools\n",
    "            MaxPooling2D(pool_size=(2,2), data_format='channels_last')\n",
    "        )\n",
    "\n",
    "    model.add(Flatten())\n",
    "\n",
    "def _make_dense_layers(model):\n",
    "    for size in dense_sizes:\n",
    "        model.add(\n",
    "            Dense(size, activation=layer_activation)\n",
    "        )\n",
    "        if batch_normalize:\n",
    "            model.add(\n",
    "                BatchNormalization(axis=1)\n",
    "            )\n",
    "    model.add(\n",
    "        Dense(output_size, activation=final_activation)\n",
    "    )\n",
    "\n",
    "def one_hot_output(y_hat_raw):\n",
    "    # predict() outputs floats. We want one-hot in most cases\n",
    "    y_hat = np.zeros(y_hat_raw.shape, dtype=np.int)\n",
    "    y_hat[np.arange(y_hat_raw.shape[0]), y_hat_raw.argmax(1)] = 1\n",
    "    return y_hat"
   ]
  },
  {
   "cell_type": "code",
   "execution_count": 16,
   "metadata": {},
   "outputs": [
    {
     "name": "stdout",
     "output_type": "stream",
     "text": [
      "(1250000, 784, 1)\n",
      "(1250000, 50)\n"
     ]
    }
   ],
   "source": [
    "data, target = make_dataset()"
   ]
  },
  {
   "cell_type": "code",
   "execution_count": 18,
   "metadata": {},
   "outputs": [],
   "source": [
    "import os.path\n",
    "from keras.models import load_model\n",
    "import json\n",
    "\n",
    "def cache_fit(model_name, model, *args, **kwargs):\n",
    "    archive_name = model_name+'_model.h5'\n",
    "    history_name = model_name+'_history.json'\n",
    "    archive_exists = os.path.isfile(archive_name)\n",
    "\n",
    "    if not archive_exists:\n",
    "        print('Model '+model_name+' not found in archive. Training new model.')\n",
    "        hist = model.fit(*args, **kwargs)\n",
    "        model.save(archive_name)\n",
    "        with open(history_name, 'w') as f:\n",
    "            json.dump(hist.history, f)\n",
    "        return model\n",
    "    else:\n",
    "        print('Model found on disk. Reloading.')\n",
    "        return load_model(archive_name)"
   ]
  },
  {
   "cell_type": "code",
   "execution_count": 27,
   "metadata": {},
   "outputs": [
    {
     "name": "stdout",
     "output_type": "stream",
     "text": [
      "_________________________________________________________________\n",
      "Layer (type)                 Output Shape              Param #   \n",
      "=================================================================\n",
      "reshape_6 (Reshape)          (None, 28, 28, 1)         0         \n",
      "_________________________________________________________________\n",
      "conv2d_12 (Conv2D)           (None, 28, 28, 64)        640       \n",
      "_________________________________________________________________\n",
      "batch_normalization_16 (Batc (None, 28, 28, 64)        112       \n",
      "_________________________________________________________________\n",
      "max_pooling2d_12 (MaxPooling (None, 14, 14, 64)        0         \n",
      "_________________________________________________________________\n",
      "conv2d_13 (Conv2D)           (None, 14, 14, 64)        36928     \n",
      "_________________________________________________________________\n",
      "batch_normalization_17 (Batc (None, 14, 14, 64)        56        \n",
      "_________________________________________________________________\n",
      "max_pooling2d_13 (MaxPooling (None, 7, 7, 64)          0         \n",
      "_________________________________________________________________\n",
      "conv2d_14 (Conv2D)           (None, 7, 7, 128)         73856     \n",
      "_________________________________________________________________\n",
      "batch_normalization_18 (Batc (None, 7, 7, 128)         28        \n",
      "_________________________________________________________________\n",
      "max_pooling2d_14 (MaxPooling (None, 3, 3, 128)         0         \n",
      "_________________________________________________________________\n",
      "conv2d_15 (Conv2D)           (None, 3, 3, 128)         147584    \n",
      "_________________________________________________________________\n",
      "batch_normalization_19 (Batc (None, 3, 3, 128)         12        \n",
      "_________________________________________________________________\n",
      "max_pooling2d_15 (MaxPooling (None, 1, 1, 128)         0         \n",
      "_________________________________________________________________\n",
      "flatten_3 (Flatten)          (None, 128)               0         \n",
      "_________________________________________________________________\n",
      "dense_7 (Dense)              (None, 128)               16512     \n",
      "_________________________________________________________________\n",
      "batch_normalization_20 (Batc (None, 128)               512       \n",
      "_________________________________________________________________\n",
      "dense_8 (Dense)              (None, 128)               16512     \n",
      "_________________________________________________________________\n",
      "batch_normalization_21 (Batc (None, 128)               512       \n",
      "_________________________________________________________________\n",
      "dense_9 (Dense)              (None, 50)                6450      \n",
      "=================================================================\n",
      "Total params: 299,714\n",
      "Trainable params: 299,098\n",
      "Non-trainable params: 616\n",
      "_________________________________________________________________\n",
      "Model found on disk. Reloading.\n"
     ]
    }
   ],
   "source": [
    "input_shape=image_size\n",
    "n_filters=[64,64,128,128]\n",
    "dense_sizes=[128,128]\n",
    "output_size=len(categories)\n",
    "\n",
    "batch_normalize = True\n",
    "\n",
    "layer_activation='relu'\n",
    "final_activation='softmax'\n",
    "\n",
    "loss='categorical_crossentropy'\n",
    "optimizer='Nadam'\n",
    "metrics=['categorical_accuracy']\n",
    "\n",
    "#########\n",
    "\n",
    "model = Sequential()\n",
    "\n",
    "_make_convolution_layers(model)\n",
    "_make_dense_layers(model)\n",
    "\n",
    "model.compile(\n",
    "    loss=loss,\n",
    "    optimizer=optimizer,\n",
    "    metrics=metrics\n",
    ")\n",
    "\n",
    "model.summary()\n",
    "\n",
    "model = cache_fit(\n",
    "    'cnn_50cat_25000img_6ep_int8', model, \n",
    "    x=data, y=target, \n",
    "    batch_size=32, epochs=6, \n",
    "    verbose=1, shuffle=True\n",
    ")"
   ]
  },
  {
   "cell_type": "code",
   "execution_count": 12,
   "metadata": {},
   "outputs": [
    {
     "name": "stdout",
     "output_type": "stream",
     "text": [
      "0 : reshape_1_input, <keras.engine.topology.InputLayer object at 0x7f7e44758610>\n",
      "1 : reshape_1, <keras.layers.core.Reshape object at 0x7f7dca1b6250>\n",
      "2 : conv2d_1, <keras.layers.convolutional.Conv2D object at 0x7f7dca1cf090>\n",
      "3 : conv2d_1__activation__, <keras.layers.core.Activation object at 0x7f7e44758590>\n",
      "4 : conv2d_1_permute_batch_normalization_1, <keras.layers.core.Permute object at 0x7f7dca1b66d0>\n",
      "5 : batch_normalization_1, <keras.layers.normalization.BatchNormalization object at 0x7f7dca1b6450>\n",
      "6 : batch_normalization_1_permute_max_pooling2d_1, <keras.layers.core.Permute object at 0x7f7e44758310>\n",
      "7 : max_pooling2d_1, <keras.layers.pooling.MaxPooling2D object at 0x7f7dca1cf110>\n"
     ]
    },
    {
     "ename": "ValueError",
     "evalue": "Converter currently supports data_format = 'channels_last' only.",
     "output_type": "error",
     "traceback": [
      "\u001b[0;31m---------------------------------------------------------------------------\u001b[0m",
      "\u001b[0;31mValueError\u001b[0m                                Traceback (most recent call last)",
      "\u001b[0;32m<ipython-input-12-e60a71ef44dd>\u001b[0m in \u001b[0;36m<module>\u001b[0;34m()\u001b[0m\n\u001b[1;32m      3\u001b[0m     \u001b[0minput_names\u001b[0m\u001b[0;34m=\u001b[0m\u001b[0;34m'drawing'\u001b[0m\u001b[0;34m,\u001b[0m\u001b[0;34m\u001b[0m\u001b[0m\n\u001b[1;32m      4\u001b[0m     \u001b[0mimage_input_names\u001b[0m\u001b[0;34m=\u001b[0m\u001b[0;34m'drawing'\u001b[0m\u001b[0;34m,\u001b[0m\u001b[0;34m\u001b[0m\u001b[0m\n\u001b[0;32m----> 5\u001b[0;31m     \u001b[0mclass_labels\u001b[0m\u001b[0;34m=\u001b[0m\u001b[0;34m'50-categories.txt'\u001b[0m\u001b[0;34m\u001b[0m\u001b[0m\n\u001b[0m\u001b[1;32m      6\u001b[0m )\n",
      "\u001b[0;32m/usr/local/lib/python2.7/dist-packages/coremltools/converters/keras/_keras_converter.pyc\u001b[0m in \u001b[0;36mconvert\u001b[0;34m(model, input_names, output_names, image_input_names, is_bgr, red_bias, green_bias, blue_bias, gray_bias, image_scale, class_labels, predicted_feature_name, model_precision, predicted_probabilities_output, add_custom_layers, custom_conversion_functions)\u001b[0m\n\u001b[1;32m    720\u001b[0m                       \u001b[0mpredicted_probabilities_output\u001b[0m\u001b[0;34m,\u001b[0m\u001b[0;34m\u001b[0m\u001b[0m\n\u001b[1;32m    721\u001b[0m                       \u001b[0madd_custom_layers\u001b[0m\u001b[0;34m,\u001b[0m\u001b[0;34m\u001b[0m\u001b[0m\n\u001b[0;32m--> 722\u001b[0;31m                       custom_conversion_functions=custom_conversion_functions)\n\u001b[0m\u001b[1;32m    723\u001b[0m \u001b[0;34m\u001b[0m\u001b[0m\n\u001b[1;32m    724\u001b[0m     \u001b[0;32mreturn\u001b[0m \u001b[0m_MLModel\u001b[0m\u001b[0;34m(\u001b[0m\u001b[0mspec\u001b[0m\u001b[0;34m)\u001b[0m\u001b[0;34m\u001b[0m\u001b[0m\n",
      "\u001b[0;32m/usr/local/lib/python2.7/dist-packages/coremltools/converters/keras/_keras_converter.pyc\u001b[0m in \u001b[0;36mconvertToSpec\u001b[0;34m(model, input_names, output_names, image_input_names, is_bgr, red_bias, green_bias, blue_bias, gray_bias, image_scale, class_labels, predicted_feature_name, model_precision, predicted_probabilities_output, add_custom_layers, custom_conversion_functions)\u001b[0m\n\u001b[1;32m    525\u001b[0m                                            \u001b[0mpredicted_probabilities_output\u001b[0m\u001b[0;34m=\u001b[0m\u001b[0mpredicted_probabilities_output\u001b[0m\u001b[0;34m,\u001b[0m\u001b[0;34m\u001b[0m\u001b[0m\n\u001b[1;32m    526\u001b[0m                                            \u001b[0madd_custom_layers\u001b[0m\u001b[0;34m=\u001b[0m\u001b[0madd_custom_layers\u001b[0m\u001b[0;34m,\u001b[0m\u001b[0;34m\u001b[0m\u001b[0m\n\u001b[0;32m--> 527\u001b[0;31m                                            custom_conversion_functions=custom_conversion_functions)\n\u001b[0m\u001b[1;32m    528\u001b[0m     \u001b[0;32melse\u001b[0m\u001b[0;34m:\u001b[0m\u001b[0;34m\u001b[0m\u001b[0m\n\u001b[1;32m    529\u001b[0m         raise RuntimeError(\n",
      "\u001b[0;32m/usr/local/lib/python2.7/dist-packages/coremltools/converters/keras/_keras2_converter.pyc\u001b[0m in \u001b[0;36m_convert\u001b[0;34m(model, input_names, output_names, image_input_names, is_bgr, red_bias, green_bias, blue_bias, gray_bias, image_scale, class_labels, predicted_feature_name, predicted_probabilities_output, add_custom_layers, custom_conversion_functions)\u001b[0m\n\u001b[1;32m    281\u001b[0m         \u001b[0;31m# this may be none if we're using custom layers\u001b[0m\u001b[0;34m\u001b[0m\u001b[0;34m\u001b[0m\u001b[0m\n\u001b[1;32m    282\u001b[0m         \u001b[0;32mif\u001b[0m \u001b[0mconverter_func\u001b[0m\u001b[0;34m:\u001b[0m\u001b[0;34m\u001b[0m\u001b[0m\n\u001b[0;32m--> 283\u001b[0;31m             \u001b[0mconverter_func\u001b[0m\u001b[0;34m(\u001b[0m\u001b[0mbuilder\u001b[0m\u001b[0;34m,\u001b[0m \u001b[0mlayer\u001b[0m\u001b[0;34m,\u001b[0m \u001b[0minput_names\u001b[0m\u001b[0;34m,\u001b[0m \u001b[0moutput_names\u001b[0m\u001b[0;34m,\u001b[0m \u001b[0mkeras_layer\u001b[0m\u001b[0;34m)\u001b[0m\u001b[0;34m\u001b[0m\u001b[0m\n\u001b[0m\u001b[1;32m    284\u001b[0m         \u001b[0;32melse\u001b[0m\u001b[0;34m:\u001b[0m\u001b[0;34m\u001b[0m\u001b[0m\n\u001b[1;32m    285\u001b[0m             \u001b[0mlayer_name\u001b[0m \u001b[0;34m=\u001b[0m \u001b[0mtype\u001b[0m\u001b[0;34m(\u001b[0m\u001b[0mkeras_layer\u001b[0m\u001b[0;34m)\u001b[0m\u001b[0;34m.\u001b[0m\u001b[0m__name__\u001b[0m\u001b[0;34m\u001b[0m\u001b[0m\n",
      "\u001b[0;32m/usr/local/lib/python2.7/dist-packages/coremltools/converters/keras/_layers2.pyc\u001b[0m in \u001b[0;36mconvert_pooling\u001b[0;34m(builder, layer, input_names, output_names, keras_layer)\u001b[0m\n\u001b[1;32m    570\u001b[0m         \u001b[0mA\u001b[0m \u001b[0mneural\u001b[0m \u001b[0mnetwork\u001b[0m \u001b[0mbuilder\u001b[0m \u001b[0mobject\u001b[0m\u001b[0;34m.\u001b[0m\u001b[0;34m\u001b[0m\u001b[0m\n\u001b[1;32m    571\u001b[0m     \"\"\"\n\u001b[0;32m--> 572\u001b[0;31m     \u001b[0m_check_data_format\u001b[0m\u001b[0;34m(\u001b[0m\u001b[0mkeras_layer\u001b[0m\u001b[0;34m)\u001b[0m\u001b[0;34m\u001b[0m\u001b[0m\n\u001b[0m\u001b[1;32m    573\u001b[0m     \u001b[0;31m# Get input and output names\u001b[0m\u001b[0;34m\u001b[0m\u001b[0;34m\u001b[0m\u001b[0m\n\u001b[1;32m    574\u001b[0m     \u001b[0minput_name\u001b[0m\u001b[0;34m,\u001b[0m \u001b[0moutput_name\u001b[0m \u001b[0;34m=\u001b[0m \u001b[0;34m(\u001b[0m\u001b[0minput_names\u001b[0m\u001b[0;34m[\u001b[0m\u001b[0;36m0\u001b[0m\u001b[0;34m]\u001b[0m\u001b[0;34m,\u001b[0m \u001b[0moutput_names\u001b[0m\u001b[0;34m[\u001b[0m\u001b[0;36m0\u001b[0m\u001b[0;34m]\u001b[0m\u001b[0;34m)\u001b[0m\u001b[0;34m\u001b[0m\u001b[0m\n",
      "\u001b[0;32m/usr/local/lib/python2.7/dist-packages/coremltools/converters/keras/_layers2.pyc\u001b[0m in \u001b[0;36m_check_data_format\u001b[0;34m(keras_layer)\u001b[0m\n\u001b[1;32m    122\u001b[0m     \u001b[0;32mif\u001b[0m \u001b[0mhasattr\u001b[0m\u001b[0;34m(\u001b[0m\u001b[0mkeras_layer\u001b[0m\u001b[0;34m,\u001b[0m\u001b[0;34m(\u001b[0m\u001b[0;34m'data_format'\u001b[0m\u001b[0;34m)\u001b[0m\u001b[0;34m)\u001b[0m\u001b[0;34m:\u001b[0m\u001b[0;34m\u001b[0m\u001b[0m\n\u001b[1;32m    123\u001b[0m         \u001b[0;32mif\u001b[0m \u001b[0mkeras_layer\u001b[0m\u001b[0;34m.\u001b[0m\u001b[0mdata_format\u001b[0m \u001b[0;34m!=\u001b[0m \u001b[0;34m'channels_last'\u001b[0m\u001b[0;34m:\u001b[0m\u001b[0;34m\u001b[0m\u001b[0m\n\u001b[0;32m--> 124\u001b[0;31m             raise ValueError(\"Converter currently supports data_format = \"\n\u001b[0m\u001b[1;32m    125\u001b[0m                 \"'channels_last' only.\")        \n\u001b[1;32m    126\u001b[0m \u001b[0;34m\u001b[0m\u001b[0m\n",
      "\u001b[0;31mValueError\u001b[0m: Converter currently supports data_format = 'channels_last' only."
     ]
    }
   ],
   "source": [
    "coreml_model = coremltools.converters.keras.convert(\n",
    "    model, \n",
    "    input_names='drawing', \n",
    "    image_input_names='drawing', \n",
    "    class_labels='50-categories.txt'\n",
    ")"
   ]
  },
  {
   "cell_type": "code",
   "execution_count": null,
   "metadata": {},
   "outputs": [],
   "source": []
  }
 ],
 "metadata": {
  "kernelspec": {
   "display_name": "Python 2",
   "language": "python",
   "name": "python2"
  },
  "language_info": {
   "codemirror_mode": {
    "name": "ipython",
    "version": 2
   },
   "file_extension": ".py",
   "mimetype": "text/x-python",
   "name": "python",
   "nbconvert_exporter": "python",
   "pygments_lexer": "ipython2",
   "version": "2.7.14"
  }
 },
 "nbformat": 4,
 "nbformat_minor": 2
}

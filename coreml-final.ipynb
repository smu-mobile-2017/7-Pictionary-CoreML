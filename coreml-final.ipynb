{
 "cells": [
  {
   "cell_type": "code",
   "execution_count": 1,
   "metadata": {},
   "outputs": [],
   "source": [
    "from __future__ import print_function\n",
    "from future_builtins import map, filter, zip"
   ]
  },
  {
   "cell_type": "code",
   "execution_count": 2,
   "metadata": {},
   "outputs": [
    {
     "name": "stderr",
     "output_type": "stream",
     "text": [
      "Using TensorFlow backend.\n",
      "WARNING:root:Keras version 2.1.1 detected. Last version known to be fully compatible of Keras is 2.0.6 .\n",
      "WARNING:root:TensorFlow version 1.4.0 detected. Last version known to be fully compatible is 1.2.1 .\n"
     ]
    },
    {
     "name": "stdout",
     "output_type": "stream",
     "text": [
      "tensorflow v1.4.0\n",
      "keras v2.1.1\n",
      "coremltools v?\n",
      "numpy v1.13.3\n"
     ]
    }
   ],
   "source": [
    "import tensorflow as tf\n",
    "import keras\n",
    "import coremltools\n",
    "import numpy as np\n",
    "\n",
    "for name, package in [('tensorflow',tf), ('keras',keras), ('coremltools',coremltools), ('numpy', np)]:\n",
    "    try:\n",
    "        print(name + ' v' + package.__version__)\n",
    "    except AttributeError:\n",
    "        print(name + ' v?')"
   ]
  },
  {
   "cell_type": "code",
   "execution_count": 3,
   "metadata": {},
   "outputs": [],
   "source": [
    "# Load newline-delimited list of categories\n",
    "\n",
    "# f = open('quickdraw-categories.txt','r')\n",
    "f = open('50-categories.txt','r')\n",
    "categories = [line.rstrip() for line in f]\n",
    "f.close()\n",
    "\n",
    "filename_from_category = lambda s: '../../quickdraw/'+s+'.npy'\n",
    "filenames = list(map(filename_from_category, categories))"
   ]
  },
  {
   "cell_type": "code",
   "execution_count": 4,
   "metadata": {},
   "outputs": [
    {
     "name": "stdout",
     "output_type": "stream",
     "text": [
      "All 50 files found!\n"
     ]
    }
   ],
   "source": [
    "# Test that all files exist according to categories\n",
    "# in quickdraw-categories.txt\n",
    "\n",
    "import os.path\n",
    "\n",
    "all_exist = True\n",
    "for filename in filenames:\n",
    "    if not os.path.isfile(filename):\n",
    "        print('file `{}` does not exist'.format(filename))\n",
    "        all_exist = False\n",
    "if all_exist:\n",
    "    print('All {} files found!'.format(len(categories)))"
   ]
  },
  {
   "cell_type": "code",
   "execution_count": 5,
   "metadata": {},
   "outputs": [],
   "source": [
    "image_size = (28,28)\n",
    "samples_per_category = 10000"
   ]
  },
  {
   "cell_type": "code",
   "execution_count": 6,
   "metadata": {},
   "outputs": [],
   "source": [
    "def one_hot_vector(index):\n",
    "    hot = np.zeros(len(categories),dtype=np.int8)\n",
    "    hot[index] = 1\n",
    "    return hot\n",
    "\n",
    "def one_hot_array(index):\n",
    "    is_column = False\n",
    "    hot = np.zeros((1,len(categories)),dtype=np.int8)\n",
    "    hot[0,index] = 1\n",
    "    if is_column:\n",
    "        return hot.T\n",
    "    else:\n",
    "        return hot"
   ]
  },
  {
   "cell_type": "code",
   "execution_count": 7,
   "metadata": {},
   "outputs": [],
   "source": [
    "import random\n",
    "\n",
    "def dataset_generator():\n",
    "    categories_and_filenames = list(zip(categories, filenames))\n",
    "    # Shuffle order\n",
    "    random.shuffle(categories_and_filenames)\n",
    "    for category_index, (category, filename) in enumerate(categories_and_filenames):\n",
    "        label_one_hot_encoded = one_hot_array(category_index)\n",
    "        category_images = np.load(filename)\n",
    "        n_images = category_images.shape[0]\n",
    "        sample_indices = random.sample(range(n_images), min(samples_per_category,n_images))\n",
    "        for image in category_images[sample_indices]:\n",
    "            image = np.matrix(image)\n",
    "            image = np.expand_dims(image, axis=1)\n",
    "            yield (image, label_one_hot_encoded)\n",
    "        yield None"
   ]
  },
  {
   "cell_type": "code",
   "execution_count": 8,
   "metadata": {},
   "outputs": [],
   "source": [
    "import random\n",
    "\n",
    "def make_dataset():\n",
    "    data = []\n",
    "    target = []\n",
    "    for category_index, (category, filename) in enumerate(zip(categories, filenames)):\n",
    "        label_one_hot_encoded = one_hot_vector(category_index)\n",
    "        category_images = np.load(filename)\n",
    "        n_images = category_images.shape[0]\n",
    "        for image in category_images[:samples_per_category]:\n",
    "#             image = np.matrix(image)\n",
    "            data.append(image)\n",
    "            target.append(label_one_hot_encoded)\n",
    "    data = np.array(data)\n",
    "    data = np.expand_dims(data, axis=1)\n",
    "    target = np.array(target)\n",
    "    print(data.shape)\n",
    "    print(target.shape)\n",
    "    return (data, target)"
   ]
  },
  {
   "cell_type": "code",
   "execution_count": 9,
   "metadata": {},
   "outputs": [],
   "source": [
    "import keras\n",
    "from keras.models import Sequential\n",
    "from keras.layers import Reshape, Dense, BatchNormalization, Dropout, \\\n",
    "                         Conv2D, MaxPooling2D, Activation, Flatten, Lambda\n",
    "\n",
    "### PARAMS ###\n",
    "input_shape=image_size\n",
    "n_filters=[32,64,64,256]\n",
    "dense_sizes=[128,128]\n",
    "output_size=len(categories)\n",
    "\n",
    "batch_normalize = True\n",
    "\n",
    "layer_activation='relu'\n",
    "final_activation='softmax'\n",
    "\n",
    "loss='categorical_crossentropy'\n",
    "optimizer='rmsprop'\n",
    "metrics=['categorical_accuracy']\n",
    "\n",
    "def _make_convolution_layers(model):\n",
    "    model.add(\n",
    "        Reshape(\n",
    "            (1, input_shape[0], input_shape[1]), \n",
    "            input_shape=(1, input_shape[0]*input_shape[1])\n",
    "        )\n",
    "    )\n",
    "    \n",
    "    model.add(\n",
    "        Lambda(lambda x: x/127.5-1)\n",
    "    )\n",
    "\n",
    "    for filters in n_filters:\n",
    "        # Add a single convolution layer\n",
    "        model.add(\n",
    "            Conv2D(\n",
    "                filters=filters,\n",
    "                kernel_size=(3,3),\n",
    "                padding='same',\n",
    "                activation=layer_activation\n",
    "            )\n",
    "        )\n",
    "        # Add batch normalization to the convolution layer\n",
    "        if batch_normalize:\n",
    "            model.add(\n",
    "                BatchNormalization(axis=1)\n",
    "            )\n",
    "        # Pool the layer\n",
    "        model.add(\n",
    "            MaxPooling2D(pool_size=(2,2), data_format='channels_first')\n",
    "        )\n",
    "\n",
    "    model.add(Flatten())\n",
    "\n",
    "def _make_dense_layers(model):\n",
    "    for size in dense_sizes:\n",
    "        model.add(\n",
    "            Dense(size, activation=layer_activation)\n",
    "        )\n",
    "        if batch_normalize:\n",
    "            model.add(\n",
    "                BatchNormalization(axis=1)\n",
    "            )\n",
    "    model.add(\n",
    "        Dense(output_size, activation=final_activation)\n",
    "    )\n",
    "\n",
    "def one_hot_output(y_hat_raw):\n",
    "    # predict() outputs floats. We want one-hot in most cases\n",
    "    y_hat = np.zeros(y_hat_raw.shape, dtype=np.int)\n",
    "    y_hat[np.arange(y_hat_raw.shape[0]), y_hat_raw.argmax(1)] = 1\n",
    "    return y_hat    \n",
    "\n",
    "model = Sequential()\n",
    "\n",
    "_make_convolution_layers(model)\n",
    "_make_dense_layers(model)\n",
    "\n",
    "model.compile(\n",
    "    loss=loss,\n",
    "    optimizer=optimizer,\n",
    "    metrics=metrics\n",
    ")"
   ]
  },
  {
   "cell_type": "code",
   "execution_count": 10,
   "metadata": {},
   "outputs": [
    {
     "name": "stdout",
     "output_type": "stream",
     "text": [
      "(500000, 1, 784)\n",
      "(500000, 50)\n"
     ]
    }
   ],
   "source": [
    "data, target = make_dataset()"
   ]
  },
  {
   "cell_type": "code",
   "execution_count": 12,
   "metadata": {},
   "outputs": [
    {
     "name": "stdout",
     "output_type": "stream",
     "text": [
      "Epoch 1/20\n",
      "500000/500000 [==============================] - 78s 156us/step - loss: 0.9944 - categorical_accuracy: 0.7329\n",
      "Epoch 2/20\n",
      "500000/500000 [==============================] - 77s 155us/step - loss: 0.7357 - categorical_accuracy: 0.8040\n",
      "Epoch 3/20\n",
      "500000/500000 [==============================] - 78s 155us/step - loss: 0.6750 - categorical_accuracy: 0.8209\n",
      "Epoch 4/20\n",
      "500000/500000 [==============================] - 77s 155us/step - loss: 0.6421 - categorical_accuracy: 0.8299\n",
      "Epoch 5/20\n",
      "500000/500000 [==============================] - 78s 155us/step - loss: 0.6196 - categorical_accuracy: 0.8358\n",
      "Epoch 6/20\n",
      "500000/500000 [==============================] - 79s 157us/step - loss: 0.6005 - categorical_accuracy: 0.8408\n",
      "Epoch 7/20\n",
      "500000/500000 [==============================] - 78s 155us/step - loss: 0.5881 - categorical_accuracy: 0.8442\n",
      "Epoch 8/20\n",
      "500000/500000 [==============================] - 77s 155us/step - loss: 0.5781 - categorical_accuracy: 0.8467\n",
      "Epoch 9/20\n",
      "500000/500000 [==============================] - 78s 155us/step - loss: 0.5733 - categorical_accuracy: 0.8489\n",
      "Epoch 10/20\n",
      "500000/500000 [==============================] - 77s 155us/step - loss: 0.5609 - categorical_accuracy: 0.8517\n",
      "Epoch 11/20\n",
      "500000/500000 [==============================] - 78s 155us/step - loss: 0.5534 - categorical_accuracy: 0.8532\n",
      "Epoch 12/20\n",
      "500000/500000 [==============================] - 78s 155us/step - loss: 0.5479 - categorical_accuracy: 0.8545\n",
      "Epoch 13/20\n",
      "500000/500000 [==============================] - 78s 155us/step - loss: 0.5418 - categorical_accuracy: 0.8563\n",
      "Epoch 14/20\n",
      "500000/500000 [==============================] - 78s 155us/step - loss: 0.5360 - categorical_accuracy: 0.8577\n",
      "Epoch 15/20\n",
      "500000/500000 [==============================] - 78s 155us/step - loss: 0.5325 - categorical_accuracy: 0.8586\n",
      "Epoch 16/20\n",
      "500000/500000 [==============================] - 78s 155us/step - loss: 0.5460 - categorical_accuracy: 0.8568\n",
      "Epoch 17/20\n",
      "500000/500000 [==============================] - 78s 155us/step - loss: 0.5245 - categorical_accuracy: 0.8615\n",
      "Epoch 18/20\n",
      "500000/500000 [==============================] - 78s 155us/step - loss: 0.5737 - categorical_accuracy: 0.8523\n",
      "Epoch 19/20\n",
      "500000/500000 [==============================] - 78s 155us/step - loss: 0.5593 - categorical_accuracy: 0.8537\n",
      "Epoch 20/20\n",
      "500000/500000 [==============================] - 77s 155us/step - loss: 0.5338 - categorical_accuracy: 0.8585\n"
     ]
    }
   ],
   "source": [
    "hist = model.fit(\n",
    "    x=data, \n",
    "    y=target, \n",
    "    batch_size=32, \n",
    "    epochs=20, \n",
    "    verbose=1,\n",
    "    shuffle=True\n",
    ")"
   ]
  },
  {
   "cell_type": "code",
   "execution_count": 13,
   "metadata": {},
   "outputs": [],
   "source": [
    "model.save('cnn_50_cats_10K_imgs_20_epochs.h5')"
   ]
  },
  {
   "cell_type": "code",
   "execution_count": null,
   "metadata": {
    "scrolled": true
   },
   "outputs": [],
   "source": [
    "# from itertools import cycle\n",
    "\n",
    "# samples = samples_per_category * len(categories)\n",
    "\n",
    "# model.fit_generator(\n",
    "#     cycle(dataset_generator()), \n",
    "#     steps_per_epoch=samples, \n",
    "#     epochs=40, \n",
    "#     verbose=1, \n",
    "#     callbacks=None, \n",
    "#     validation_data=None, \n",
    "#     validation_steps=None, \n",
    "#     class_weight=None, \n",
    "#     max_queue_size=10,\n",
    "#     workers=1, \n",
    "#     use_multiprocessing=False, \n",
    "#     shuffle=True, \n",
    "#     initial_epoch=0\n",
    "# )"
   ]
  },
  {
   "cell_type": "code",
   "execution_count": null,
   "metadata": {},
   "outputs": [],
   "source": [
    "# https://gist.github.com/phrz/98045738d182dd75d1eed74470b9b2ef\n",
    "def average_line(data, plot_quartiles=True, color='#016d91'):\n",
    "    '''\n",
    "    Given 2D data where columns are samples and rows are classes/time series, \n",
    "    plot an average line and surrounding quartile area \n",
    "    (like a continuous box plot)\n",
    "    '''\n",
    "    averages = np.average(data,axis=0)\n",
    "    x = np.arange(1, len(averages)+1)\n",
    "    plt.plot(x, averages, color=color)\n",
    "\n",
    "    if plot_quartiles:\n",
    "        lower = np.percentile(data, 25, axis=0)\n",
    "        upper = np.percentile(data, 75, axis=0)\n",
    "        plt.fill_between(x, lower, upper, color=color, alpha='0.25', linewidth=0)"
   ]
  }
 ],
 "metadata": {
  "kernelspec": {
   "display_name": "Python 2",
   "language": "python",
   "name": "python2"
  },
  "language_info": {
   "codemirror_mode": {
    "name": "ipython",
    "version": 2
   },
   "file_extension": ".py",
   "mimetype": "text/x-python",
   "name": "python",
   "nbconvert_exporter": "python",
   "pygments_lexer": "ipython2",
   "version": "2.7.14"
  }
 },
 "nbformat": 4,
 "nbformat_minor": 2
}

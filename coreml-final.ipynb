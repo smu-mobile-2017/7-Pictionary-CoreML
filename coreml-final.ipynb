{
 "cells": [
  {
   "cell_type": "code",
   "execution_count": 1,
   "metadata": {},
   "outputs": [],
   "source": [
    "from __future__ import print_function\n",
    "from future_builtins import map, filter, zip"
   ]
  },
  {
   "cell_type": "code",
   "execution_count": 2,
   "metadata": {},
   "outputs": [
    {
     "name": "stderr",
     "output_type": "stream",
     "text": [
      "Using TensorFlow backend.\n",
      "WARNING:root:Keras version 2.1.2 detected. Last version known to be fully compatible of Keras is 2.0.6 .\n",
      "WARNING:root:TensorFlow version 1.4.0 detected. Last version known to be fully compatible is 1.2.1 .\n"
     ]
    },
    {
     "name": "stdout",
     "output_type": "stream",
     "text": [
      "tensorflow v1.4.0\n",
      "keras v2.1.2\n",
      "coremltools v?\n",
      "numpy v1.13.3\n"
     ]
    }
   ],
   "source": [
    "import tensorflow as tf\n",
    "import keras\n",
    "import coremltools\n",
    "import numpy as np\n",
    "\n",
    "for name, package in [('tensorflow',tf), ('keras',keras), ('coremltools',coremltools), ('numpy', np)]:\n",
    "    try:\n",
    "        print(name + ' v' + package.__version__)\n",
    "    except AttributeError:\n",
    "        print(name + ' v?')"
   ]
  },
  {
   "cell_type": "code",
   "execution_count": 3,
   "metadata": {},
   "outputs": [],
   "source": [
    "# Load newline-delimited list of categories\n",
    "\n",
    "# f = open('quickdraw-categories.txt','r')\n",
    "f = open('50-categories.txt','r')\n",
    "categories = [line.rstrip() for line in f]\n",
    "f.close()\n",
    "\n",
    "filename_from_category = lambda s: '../../quickdraw/'+s+'.npy'\n",
    "filenames = list(map(filename_from_category, categories))"
   ]
  },
  {
   "cell_type": "code",
   "execution_count": 4,
   "metadata": {},
   "outputs": [
    {
     "name": "stdout",
     "output_type": "stream",
     "text": [
      "All 50 files found!\n"
     ]
    }
   ],
   "source": [
    "# Test that all files exist according to categories\n",
    "# in quickdraw-categories.txt\n",
    "\n",
    "import os.path\n",
    "\n",
    "all_exist = True\n",
    "for filename in filenames:\n",
    "    if not os.path.isfile(filename):\n",
    "        print('file `{}` does not exist'.format(filename))\n",
    "        all_exist = False\n",
    "if all_exist:\n",
    "    print('All {} files found!'.format(len(categories)))"
   ]
  },
  {
   "cell_type": "code",
   "execution_count": 5,
   "metadata": {},
   "outputs": [],
   "source": [
    "image_size = (28,28)\n",
    "samples_per_category = 30000"
   ]
  },
  {
   "cell_type": "code",
   "execution_count": 6,
   "metadata": {},
   "outputs": [],
   "source": [
    "def one_hot_vector(index):\n",
    "    hot = np.zeros(len(categories),dtype=np.int8)\n",
    "    hot[index] = 1\n",
    "    return hot\n",
    "\n",
    "def one_hot_array(index):\n",
    "    is_column = False\n",
    "    hot = np.zeros((1,len(categories)),dtype=np.int8)\n",
    "    hot[0,index] = 1\n",
    "    if is_column:\n",
    "        return hot.T\n",
    "    else:\n",
    "        return hot"
   ]
  },
  {
   "cell_type": "code",
   "execution_count": 7,
   "metadata": {},
   "outputs": [],
   "source": [
    "import random\n",
    "\n",
    "def make_dataset():\n",
    "    data = []\n",
    "    target = []\n",
    "    for category_index, (category, filename) in enumerate(zip(categories, filenames)):\n",
    "        label_one_hot_encoded = one_hot_vector(category_index)\n",
    "        category_images = np.load(filename)\n",
    "        n_images = category_images.shape[0]\n",
    "        for image in category_images[:samples_per_category]:\n",
    "            image.shape = image_size     #Make Square\n",
    "            data.append(image)\n",
    "            target.append(label_one_hot_encoded)\n",
    "    data = np.array(data)\n",
    "    data = np.expand_dims(data, axis=3)\n",
    "    target = np.array(target)\n",
    "    print(data.shape)\n",
    "    print(target.shape)\n",
    "    return (data, target)"
   ]
  },
  {
   "cell_type": "code",
   "execution_count": 8,
   "metadata": {},
   "outputs": [],
   "source": [
    "import keras\n",
    "from keras.models import Sequential\n",
    "from keras.layers import Reshape, Dense, BatchNormalization, Dropout, \\\n",
    "                         Conv2D, MaxPooling2D, Activation, Flatten, Lambda\n",
    "\n",
    "def _make_convolution_layers(model):\n",
    "    model.add(\n",
    "        Reshape(\n",
    "            # input shape is height, width, channels\n",
    "            (input_shape[0], input_shape[1], 1), \n",
    "            input_shape=(input_shape[0], input_shape[1], 1)\n",
    "        )\n",
    "    )\n",
    "    \n",
    "#     model.add(\n",
    "#         Lambda(lambda x: x/127.5-1)\n",
    "#     )\n",
    "\n",
    "    for filters in n_filters:\n",
    "        # Add a single convolution layer\n",
    "        model.add(\n",
    "            Conv2D(\n",
    "                filters=filters,\n",
    "                kernel_size=(3,3),\n",
    "                padding='same',\n",
    "                activation=layer_activation\n",
    "            )\n",
    "        )\n",
    "        # Add batch normalization to the convolution layer\n",
    "        if batch_normalize:\n",
    "            model.add(\n",
    "                BatchNormalization(axis=1)\n",
    "            )\n",
    "        # Pool the layer\n",
    "        model.add(\n",
    "            # channels_last is required for coremltools\n",
    "            MaxPooling2D(pool_size=(2,2), data_format='channels_last')\n",
    "        )\n",
    "\n",
    "    model.add(Flatten())\n",
    "\n",
    "def _make_dense_layers(model):\n",
    "    for size in dense_sizes:\n",
    "        model.add(\n",
    "            Dense(size, activation=layer_activation)\n",
    "        )\n",
    "        if batch_normalize:\n",
    "            model.add(\n",
    "                BatchNormalization(axis=1)\n",
    "            )\n",
    "    model.add(\n",
    "        Dense(output_size, activation=final_activation)\n",
    "    )\n",
    "\n",
    "def one_hot_output(y_hat_raw):\n",
    "    # predict() outputs floats. We want one-hot in most cases\n",
    "    y_hat = np.zeros(y_hat_raw.shape, dtype=np.int)\n",
    "    y_hat[np.arange(y_hat_raw.shape[0]), y_hat_raw.argmax(1)] = 1\n",
    "    return y_hat"
   ]
  },
  {
   "cell_type": "code",
   "execution_count": 9,
   "metadata": {},
   "outputs": [
    {
     "name": "stdout",
     "output_type": "stream",
     "text": [
      "(1500000, 28, 28, 1)\n",
      "(1500000, 50)\n"
     ]
    }
   ],
   "source": [
    "data, target = make_dataset()"
   ]
  },
  {
   "cell_type": "code",
   "execution_count": 10,
   "metadata": {},
   "outputs": [],
   "source": [
    "import os.path\n",
    "from keras.models import load_model\n",
    "import json\n",
    "\n",
    "def cache_fit(model_name, model, *args, **kwargs):\n",
    "    archive_name = model_name+'_model.h5'\n",
    "    history_name = model_name+'_history.json'\n",
    "    archive_exists = os.path.isfile(archive_name)\n",
    "\n",
    "    if not archive_exists:\n",
    "        print('Model '+model_name+' not found in archive. Training new model.')\n",
    "        hist = model.fit(*args, **kwargs)\n",
    "        model.save(archive_name)\n",
    "        with open(history_name, 'w') as f:\n",
    "            json.dump(hist.history, f)\n",
    "        return model\n",
    "    else:\n",
    "        print('Model found on disk. Reloading.')\n",
    "        return load_model(archive_name)"
   ]
  },
  {
   "cell_type": "code",
   "execution_count": 11,
   "metadata": {},
   "outputs": [
    {
     "name": "stdout",
     "output_type": "stream",
     "text": [
      "_________________________________________________________________\n",
      "Layer (type)                 Output Shape              Param #   \n",
      "=================================================================\n",
      "reshape_1 (Reshape)          (None, 28, 28, 1)         0         \n",
      "_________________________________________________________________\n",
      "conv2d_1 (Conv2D)            (None, 28, 28, 64)        640       \n",
      "_________________________________________________________________\n",
      "batch_normalization_1 (Batch (None, 28, 28, 64)        112       \n",
      "_________________________________________________________________\n",
      "max_pooling2d_1 (MaxPooling2 (None, 14, 14, 64)        0         \n",
      "_________________________________________________________________\n",
      "conv2d_2 (Conv2D)            (None, 14, 14, 64)        36928     \n",
      "_________________________________________________________________\n",
      "batch_normalization_2 (Batch (None, 14, 14, 64)        56        \n",
      "_________________________________________________________________\n",
      "max_pooling2d_2 (MaxPooling2 (None, 7, 7, 64)          0         \n",
      "_________________________________________________________________\n",
      "conv2d_3 (Conv2D)            (None, 7, 7, 128)         73856     \n",
      "_________________________________________________________________\n",
      "batch_normalization_3 (Batch (None, 7, 7, 128)         28        \n",
      "_________________________________________________________________\n",
      "max_pooling2d_3 (MaxPooling2 (None, 3, 3, 128)         0         \n",
      "_________________________________________________________________\n",
      "conv2d_4 (Conv2D)            (None, 3, 3, 128)         147584    \n",
      "_________________________________________________________________\n",
      "batch_normalization_4 (Batch (None, 3, 3, 128)         12        \n",
      "_________________________________________________________________\n",
      "max_pooling2d_4 (MaxPooling2 (None, 1, 1, 128)         0         \n",
      "_________________________________________________________________\n",
      "flatten_1 (Flatten)          (None, 128)               0         \n",
      "_________________________________________________________________\n",
      "dense_1 (Dense)              (None, 128)               16512     \n",
      "_________________________________________________________________\n",
      "batch_normalization_5 (Batch (None, 128)               512       \n",
      "_________________________________________________________________\n",
      "dense_2 (Dense)              (None, 128)               16512     \n",
      "_________________________________________________________________\n",
      "batch_normalization_6 (Batch (None, 128)               512       \n",
      "_________________________________________________________________\n",
      "dense_3 (Dense)              (None, 50)                6450      \n",
      "=================================================================\n",
      "Total params: 299,714\n",
      "Trainable params: 299,098\n",
      "Non-trainable params: 616\n",
      "_________________________________________________________________\n",
      "Model cnn_50cat_30000img_4ep not found in archive. Training new model.\n",
      "Epoch 1/4\n",
      "1500000/1500000 [==============================] - 560s 374us/step - loss: 0.4944 - categorical_accuracy: 0.8676\n",
      "Epoch 2/4\n",
      "1500000/1500000 [==============================] - 559s 373us/step - loss: 0.3563 - categorical_accuracy: 0.9050\n",
      "Epoch 3/4\n",
      "1500000/1500000 [==============================] - 559s 373us/step - loss: 0.3225 - categorical_accuracy: 0.9141\n",
      "Epoch 4/4\n",
      "1500000/1500000 [==============================] - 559s 373us/step - loss: 0.3025 - categorical_accuracy: 0.9196\n"
     ]
    }
   ],
   "source": [
    "input_shape=image_size\n",
    "n_filters=[64,64,128,128]\n",
    "dense_sizes=[128,128]\n",
    "output_size=len(categories)\n",
    "\n",
    "batch_normalize = True\n",
    "\n",
    "layer_activation='relu'\n",
    "final_activation='softmax'\n",
    "\n",
    "loss='categorical_crossentropy'\n",
    "optimizer='Nadam'\n",
    "metrics=['categorical_accuracy']\n",
    "\n",
    "#########\n",
    "\n",
    "model = Sequential()\n",
    "\n",
    "_make_convolution_layers(model)\n",
    "_make_dense_layers(model)\n",
    "\n",
    "model.compile(\n",
    "    loss=loss,\n",
    "    optimizer=optimizer,\n",
    "    metrics=metrics\n",
    ")\n",
    "\n",
    "model.summary()\n",
    "\n",
    "model_name = 'cnn_50cat_30000img_4ep'\n",
    "\n",
    "model = cache_fit(\n",
    "    model_name, model, \n",
    "    x=data, y=target, \n",
    "    batch_size=32, epochs=4, \n",
    "    verbose=1, shuffle=True\n",
    ")"
   ]
  },
  {
   "cell_type": "code",
   "execution_count": 12,
   "metadata": {},
   "outputs": [
    {
     "name": "stdout",
     "output_type": "stream",
     "text": [
      "0 : reshape_1_input, <keras.engine.topology.InputLayer object at 0x7f70a06d31d0>\n",
      "1 : reshape_1, <keras.layers.core.Reshape object at 0x7f70266b2c90>\n",
      "2 : conv2d_1, <keras.layers.convolutional.Conv2D object at 0x7f70a06d3210>\n",
      "3 : conv2d_1__activation__, <keras.layers.core.Activation object at 0x7f70a06882d0>\n",
      "4 : conv2d_1_permute_batch_normalization_1, <keras.layers.core.Permute object at 0x7f70a0688410>\n",
      "5 : batch_normalization_1, <keras.layers.normalization.BatchNormalization object at 0x7f70a065bb10>\n",
      "6 : batch_normalization_1_permute_max_pooling2d_1, <keras.layers.core.Permute object at 0x7f70a06883d0>\n",
      "7 : max_pooling2d_1, <keras.layers.pooling.MaxPooling2D object at 0x7f70266d1050>\n",
      "8 : conv2d_2, <keras.layers.convolutional.Conv2D object at 0x7f6f53b00490>\n",
      "9 : conv2d_2__activation__, <keras.layers.core.Activation object at 0x7f702043fe90>\n",
      "10 : conv2d_2_permute_batch_normalization_2, <keras.layers.core.Permute object at 0x7f70a0688590>\n",
      "11 : batch_normalization_2, <keras.layers.normalization.BatchNormalization object at 0x7f6f53b37710>\n",
      "12 : batch_normalization_2_permute_max_pooling2d_2, <keras.layers.core.Permute object at 0x7f70a0688550>\n",
      "13 : max_pooling2d_2, <keras.layers.pooling.MaxPooling2D object at 0x7f702670f450>\n",
      "14 : conv2d_3, <keras.layers.convolutional.Conv2D object at 0x7f70268e6c10>\n",
      "15 : conv2d_3__activation__, <keras.layers.core.Activation object at 0x7f702043ff90>\n",
      "16 : conv2d_3_permute_batch_normalization_3, <keras.layers.core.Permute object at 0x7f70a0688390>\n",
      "17 : batch_normalization_3, <keras.layers.normalization.BatchNormalization object at 0x7f702687e890>\n",
      "18 : batch_normalization_3_permute_max_pooling2d_3, <keras.layers.core.Permute object at 0x7f70a06881d0>\n",
      "19 : max_pooling2d_3, <keras.layers.pooling.MaxPooling2D object at 0x7f70268604d0>\n",
      "20 : conv2d_4, <keras.layers.convolutional.Conv2D object at 0x7f70267b4990>\n",
      "21 : conv2d_4__activation__, <keras.layers.core.Activation object at 0x7f702043f8d0>\n",
      "22 : conv2d_4_permute_batch_normalization_4, <keras.layers.core.Permute object at 0x7f70a0688310>\n",
      "23 : batch_normalization_4, <keras.layers.normalization.BatchNormalization object at 0x7f70267c9a10>\n",
      "24 : batch_normalization_4_permute_max_pooling2d_4, <keras.layers.core.Permute object at 0x7f70a0688690>\n",
      "25 : max_pooling2d_4, <keras.layers.pooling.MaxPooling2D object at 0x7f70267a8710>\n",
      "26 : flatten_1, <keras.layers.core.Flatten object at 0x7f70a06d3690>\n",
      "27 : dense_1, <keras.layers.core.Dense object at 0x7f7021f0dc50>\n",
      "28 : dense_1__activation__, <keras.layers.core.Activation object at 0x7f702043f210>\n",
      "29 : batch_normalization_5, <keras.layers.normalization.BatchNormalization object at 0x7f7021e269d0>\n",
      "30 : dense_2, <keras.layers.core.Dense object at 0x7f7021e26b10>\n",
      "31 : dense_2__activation__, <keras.layers.core.Activation object at 0x7f70a065bb50>\n",
      "32 : batch_normalization_6, <keras.layers.normalization.BatchNormalization object at 0x7f7021de9610>\n",
      "33 : dense_3, <keras.layers.core.Dense object at 0x7f70266b2150>\n",
      "34 : dense_3__activation__, <keras.layers.core.Activation object at 0x7f70985c78d0>\n"
     ]
    }
   ],
   "source": [
    "coreml_model = coremltools.converters.keras.convert(\n",
    "    model, \n",
    "    input_names='drawing', \n",
    "    image_input_names='drawing', \n",
    "    class_labels='50-categories.txt'\n",
    ")\n",
    "\n",
    "coreml_model.save(model_name+'.mlmodel')"
   ]
  }
 ],
 "metadata": {
  "kernelspec": {
   "display_name": "Python 2",
   "language": "python",
   "name": "python2"
  },
  "language_info": {
   "codemirror_mode": {
    "name": "ipython",
    "version": 2
   },
   "file_extension": ".py",
   "mimetype": "text/x-python",
   "name": "python",
   "nbconvert_exporter": "python",
   "pygments_lexer": "ipython2",
   "version": "2.7.14"
  }
 },
 "nbformat": 4,
 "nbformat_minor": 2
}

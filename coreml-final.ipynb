{
 "cells": [
  {
   "cell_type": "code",
   "execution_count": 1,
   "metadata": {},
   "outputs": [],
   "source": [
    "%matplotlib inline\n",
    "\n",
    "from __future__ import print_function\n",
    "from future_builtins import map, filter, zip"
   ]
  },
  {
   "cell_type": "code",
   "execution_count": 2,
   "metadata": {},
   "outputs": [
    {
     "name": "stderr",
     "output_type": "stream",
     "text": [
      "Using TensorFlow backend.\n",
      "WARNING:root:Keras version 2.1.2 detected. Last version known to be fully compatible of Keras is 2.0.6 .\n",
      "WARNING:root:TensorFlow version 1.4.0 detected. Last version known to be fully compatible is 1.2.1 .\n"
     ]
    },
    {
     "name": "stdout",
     "output_type": "stream",
     "text": [
      "tensorflow v1.4.0\n",
      "keras v2.1.2\n",
      "coremltools v?\n",
      "numpy v1.13.3\n"
     ]
    }
   ],
   "source": [
    "import tensorflow as tf\n",
    "import keras\n",
    "import coremltools\n",
    "import numpy as np\n",
    "\n",
    "for name, package in [('tensorflow',tf), ('keras',keras), ('coremltools',coremltools), ('numpy', np)]:\n",
    "    try:\n",
    "        print(name + ' v' + package.__version__)\n",
    "    except AttributeError:\n",
    "        print(name + ' v?')"
   ]
  },
  {
   "cell_type": "code",
   "execution_count": 3,
   "metadata": {},
   "outputs": [],
   "source": [
    "# Load newline-delimited list of categories\n",
    "\n",
    "# f = open('quickdraw-categories.txt','r')\n",
    "f = open('50-categories.txt','r')\n",
    "categories = [line.rstrip() for line in f]\n",
    "f.close()\n",
    "\n",
    "filename_from_category = lambda s: '../../quickdraw/'+s+'.npy'\n",
    "filenames = list(map(filename_from_category, categories))"
   ]
  },
  {
   "cell_type": "code",
   "execution_count": 4,
   "metadata": {},
   "outputs": [
    {
     "name": "stdout",
     "output_type": "stream",
     "text": [
      "All 50 files found!\n"
     ]
    }
   ],
   "source": [
    "# Test that all files exist according to categories\n",
    "# in quickdraw-categories.txt\n",
    "\n",
    "import os.path\n",
    "\n",
    "all_exist = True\n",
    "for filename in filenames:\n",
    "    if not os.path.isfile(filename):\n",
    "        print('file `{}` does not exist'.format(filename))\n",
    "        all_exist = False\n",
    "if all_exist:\n",
    "    print('All {} files found!'.format(len(categories)))"
   ]
  },
  {
   "cell_type": "code",
   "execution_count": 5,
   "metadata": {},
   "outputs": [],
   "source": [
    "def one_hot_vector(index):\n",
    "    hot = np.zeros(len(categories),dtype=np.int8)\n",
    "    hot[index] = 1\n",
    "    return hot\n",
    "\n",
    "def one_hot_array(index):\n",
    "    is_column = False\n",
    "    hot = np.zeros((1,len(categories)),dtype=np.int8)\n",
    "    hot[0,index] = 1\n",
    "    if is_column:\n",
    "        return hot.T\n",
    "    else:\n",
    "        return hot"
   ]
  },
  {
   "cell_type": "code",
   "execution_count": 6,
   "metadata": {},
   "outputs": [],
   "source": [
    "import random\n",
    "\n",
    "def make_dataset():\n",
    "    data = []\n",
    "    target = []\n",
    "    for category_index, (category, filename) in enumerate(zip(categories, filenames)):\n",
    "        label_one_hot_encoded = one_hot_vector(category_index)\n",
    "        category_images = np.load(filename)\n",
    "        n_images = category_images.shape[0]\n",
    "        for image in category_images[:samples_per_category]:\n",
    "            image.shape = image_size     #Make Square\n",
    "            data.append(image)\n",
    "            target.append(label_one_hot_encoded)\n",
    "    data = np.array(data)\n",
    "    data = np.expand_dims(data, axis=3)\n",
    "    target = np.array(target)\n",
    "    return (data, target)"
   ]
  },
  {
   "cell_type": "markdown",
   "metadata": {},
   "source": [
    "# Build datasets for CNN/Random Forests"
   ]
  },
  {
   "cell_type": "code",
   "execution_count": 7,
   "metadata": {},
   "outputs": [
    {
     "name": "stdout",
     "output_type": "stream",
     "text": [
      "30000 samples selected from every category\n",
      "50 categories used for total of 1500000 samples\n",
      "\n",
      "Convolutional Neural Network datasets\n",
      "1500000 total samples\n",
      "80.0% -- (1200000, 28, 28, 1) -- Training set\n",
      "10.0% -- (150000, 28, 28, 1) -- Validation set\n",
      "10.0% -- (150000, 28, 28, 1) -- Test set\n",
      "\n",
      "Random Forests datasets\n",
      "1500000 total samples distilled down to 75000 (5.0%)\n",
      "80.0% -- (60000, 784) -- Training set\n",
      "10.0% -- (7500, 784) -- Validation set\n",
      "10.0% -- (7500, 784) -- Test set\n",
      "\n"
     ]
    }
   ],
   "source": [
    "from sklearn.model_selection import train_test_split\n",
    "\n",
    "\n",
    "####################################################################\n",
    "image_size = (28,28)\n",
    "# Number of samples per 50 categories (Determines full dataset size)\n",
    "samples_per_category = 30000\n",
    "\n",
    "# Percent of dataset used for both validation set and test set\n",
    "split_size = 0.1\n",
    "# Percent of data to subsample for random forests classifier\n",
    "subsample_size = 0.05\n",
    "####################################################################\n",
    "\n",
    "\n",
    "# Find the total dataset size\n",
    "total_samples = samples_per_category*50\n",
    "print('{} samples selected from every category'.format(samples_per_category))\n",
    "print('{} categories used for total of {} samples'.format(50, total_samples), end='\\n\\n')\n",
    "\n",
    "# Get full dataset\n",
    "data, target = make_dataset()\n",
    "\n",
    "## Subsample dataset\n",
    "samples = int(total_samples*subsample_size)\n",
    "idx = np.random.choice(data.shape[0], samples, replace=False)\n",
    "data_sampled = data[idx]\n",
    "data_sampled.shape = (data_sampled.shape[0], data_sampled.shape[1]*data_sampled.shape[2])\n",
    "# Change ohe to integer categorical\n",
    "target_sampled = np.argmax(target[idx], axis=1)\n",
    "\n",
    "\n",
    "# Create train(80%), validation(10%), and test(10%) for the CNN\n",
    "X_train_cnn, X_split_cnn, y_train_cnn, y_split_cnn = train_test_split(\n",
    "    data, \n",
    "    target, \n",
    "    test_size=split_size*2, \n",
    "    random_state=42,\n",
    "    stratify=target\n",
    ")\n",
    "X_valid_cnn, X_test_cnn, y_valid_cnn, y_test_cnn = train_test_split(\n",
    "    X_split_cnn, \n",
    "    y_split_cnn, \n",
    "    test_size=0.5, \n",
    "    random_state=42,\n",
    "    stratify=y_split_cnn\n",
    ")\n",
    "print('Convolutional Neural Network datasets')\n",
    "print('{} total samples'.format(total_samples))\n",
    "print('{}% -- {} -- Training set'.format((1-split_size*2)*100, X_train_cnn.shape))\n",
    "print('{}% -- {} -- Validation set'.format(split_size*100, X_valid_cnn.shape))\n",
    "print('{}% -- {} -- Test set'.format(split_size*100, X_test_cnn.shape), end='\\n\\n')\n",
    "\n",
    "\n",
    "# Create train(80%), validation(10%), and test(10%) for the random forest network \n",
    "X_train_rf, X_split_rf, y_train_rf, y_split_rf = train_test_split(\n",
    "    data_sampled,\n",
    "    target_sampled,\n",
    "    test_size=split_size*2,\n",
    "    random_state=42,\n",
    "    stratify=target_sampled\n",
    ")\n",
    "X_valid_rf, X_test_rf, y_valid_rf, y_test_rf = train_test_split(\n",
    "    X_split_rf,\n",
    "    y_split_rf,\n",
    "    test_size=0.5,\n",
    "    random_state=42,\n",
    "    stratify=y_split_rf\n",
    ")\n",
    "print('Random Forests datasets')\n",
    "print('{} total samples distilled down to {} ({}%)'.format(total_samples, samples, subsample_size*100))\n",
    "print('{}% -- {} -- Training set'.format((1-split_size*2)*100, X_train_rf.shape))\n",
    "print('{}% -- {} -- Validation set'.format(split_size*100, X_valid_rf.shape))\n",
    "print('{}% -- {} -- Test set'.format(split_size*100, X_test_rf.shape), end='\\n\\n')"
   ]
  },
  {
   "cell_type": "markdown",
   "metadata": {},
   "source": [
    "# CNN"
   ]
  },
  {
   "cell_type": "code",
   "execution_count": 8,
   "metadata": {},
   "outputs": [],
   "source": [
    "import keras\n",
    "from keras.models import Sequential\n",
    "from keras.layers import Reshape, Dense, BatchNormalization, Dropout, \\\n",
    "                         Conv2D, MaxPooling2D, Activation, Flatten, Lambda\n",
    "\n",
    "def _make_convolution_layers(model):\n",
    "    model.add(\n",
    "        Reshape(\n",
    "            # input shape is height, width, channels\n",
    "            (input_shape[0], input_shape[1], 1), \n",
    "            input_shape=(input_shape[0], input_shape[1], 1)\n",
    "        )\n",
    "    )\n",
    "\n",
    "    for filters in n_filters:\n",
    "        # Add a single convolution layer\n",
    "        model.add(\n",
    "            Conv2D(\n",
    "                filters=filters,\n",
    "                kernel_size=(3,3),\n",
    "                padding='same',\n",
    "                activation=layer_activation\n",
    "            )\n",
    "        )\n",
    "        # Add batch normalization to the convolution layer\n",
    "        if batch_normalize:\n",
    "            model.add(\n",
    "                BatchNormalization(axis=1)\n",
    "            )\n",
    "        # Pool the layer\n",
    "        model.add(\n",
    "            # channels_last is required for coremltools\n",
    "            MaxPooling2D(pool_size=(2,2), data_format='channels_last')\n",
    "        )\n",
    "\n",
    "    model.add(Flatten())\n",
    "\n",
    "def _make_dense_layers(model):\n",
    "    for size in dense_sizes:\n",
    "        model.add(\n",
    "            Dense(size, activation=layer_activation)\n",
    "        )\n",
    "        if batch_normalize:\n",
    "            model.add(\n",
    "                BatchNormalization(axis=1)\n",
    "            )\n",
    "    model.add(\n",
    "        Dense(output_size, activation=final_activation)\n",
    "    )\n",
    "\n",
    "def one_hot_output(y_hat_raw):\n",
    "    # predict() outputs floats. We want one-hot in most cases\n",
    "    y_hat = np.zeros(y_hat_raw.shape, dtype=np.int)\n",
    "    y_hat[np.arange(y_hat_raw.shape[0]), y_hat_raw.argmax(1)] = 1\n",
    "    return y_hat"
   ]
  },
  {
   "cell_type": "code",
   "execution_count": 9,
   "metadata": {},
   "outputs": [],
   "source": [
    "import os.path\n",
    "from keras.models import load_model\n",
    "import json\n",
    "\n",
    "def cache_fit(model_name, model, *args, **kwargs):\n",
    "    archive_name = model_name+'_model.h5'\n",
    "    history_name = model_name+'_history.json'\n",
    "    archive_exists = os.path.isfile(archive_name)\n",
    "\n",
    "    if not archive_exists:\n",
    "        print('Model '+model_name+' not found in archive. Training new model.')\n",
    "        hist = model.fit(*args, **kwargs)\n",
    "        model.save(archive_name)\n",
    "        with open(history_name, 'w') as f:\n",
    "            json.dump(hist.history, f)\n",
    "        return model\n",
    "    else:\n",
    "        print('Model found on disk. Reloading.')\n",
    "        return load_model(archive_name)"
   ]
  },
  {
   "cell_type": "code",
   "execution_count": 10,
   "metadata": {},
   "outputs": [
    {
     "name": "stdout",
     "output_type": "stream",
     "text": [
      "_________________________________________________________________\n",
      "Layer (type)                 Output Shape              Param #   \n",
      "=================================================================\n",
      "reshape_1 (Reshape)          (None, 28, 28, 1)         0         \n",
      "_________________________________________________________________\n",
      "conv2d_1 (Conv2D)            (None, 28, 28, 64)        640       \n",
      "_________________________________________________________________\n",
      "batch_normalization_1 (Batch (None, 28, 28, 64)        112       \n",
      "_________________________________________________________________\n",
      "max_pooling2d_1 (MaxPooling2 (None, 14, 14, 64)        0         \n",
      "_________________________________________________________________\n",
      "conv2d_2 (Conv2D)            (None, 14, 14, 64)        36928     \n",
      "_________________________________________________________________\n",
      "batch_normalization_2 (Batch (None, 14, 14, 64)        56        \n",
      "_________________________________________________________________\n",
      "max_pooling2d_2 (MaxPooling2 (None, 7, 7, 64)          0         \n",
      "_________________________________________________________________\n",
      "conv2d_3 (Conv2D)            (None, 7, 7, 128)         73856     \n",
      "_________________________________________________________________\n",
      "batch_normalization_3 (Batch (None, 7, 7, 128)         28        \n",
      "_________________________________________________________________\n",
      "max_pooling2d_3 (MaxPooling2 (None, 3, 3, 128)         0         \n",
      "_________________________________________________________________\n",
      "conv2d_4 (Conv2D)            (None, 3, 3, 128)         147584    \n",
      "_________________________________________________________________\n",
      "batch_normalization_4 (Batch (None, 3, 3, 128)         12        \n",
      "_________________________________________________________________\n",
      "max_pooling2d_4 (MaxPooling2 (None, 1, 1, 128)         0         \n",
      "_________________________________________________________________\n",
      "flatten_1 (Flatten)          (None, 128)               0         \n",
      "_________________________________________________________________\n",
      "dense_1 (Dense)              (None, 128)               16512     \n",
      "_________________________________________________________________\n",
      "batch_normalization_5 (Batch (None, 128)               512       \n",
      "_________________________________________________________________\n",
      "dense_2 (Dense)              (None, 128)               16512     \n",
      "_________________________________________________________________\n",
      "batch_normalization_6 (Batch (None, 128)               512       \n",
      "_________________________________________________________________\n",
      "dense_3 (Dense)              (None, 50)                6450      \n",
      "=================================================================\n",
      "Total params: 299,714\n",
      "Trainable params: 299,098\n",
      "Non-trainable params: 616\n",
      "_________________________________________________________________\n",
      "Model found on disk. Reloading.\n",
      "done\n"
     ]
    }
   ],
   "source": [
    "input_shape=image_size\n",
    "n_filters=[64,64,128,128]\n",
    "dense_sizes=[128,128]\n",
    "output_size=len(categories)\n",
    "\n",
    "batch_normalize = True\n",
    "\n",
    "layer_activation='relu'\n",
    "final_activation='softmax'\n",
    "\n",
    "loss='categorical_crossentropy'\n",
    "optimizer='Nadam'\n",
    "metrics=['categorical_accuracy']\n",
    "\n",
    "#########\n",
    "\n",
    "model = Sequential()\n",
    "\n",
    "_make_convolution_layers(model)\n",
    "_make_dense_layers(model)\n",
    "\n",
    "model.compile(\n",
    "    loss=loss,\n",
    "    optimizer=optimizer,\n",
    "    metrics=metrics\n",
    ")\n",
    "\n",
    "model.summary()\n",
    "\n",
    "model_name = 'cnn_50cat_30000img_4ep'\n",
    "\n",
    "model = cache_fit(\n",
    "    model_name, model, \n",
    "    x=X_train_cnn, y=y_train_cnn, \n",
    "    batch_size=32, epochs=4, \n",
    "    verbose=1, validation_data=(X_valid_cnn, y_valid_cnn)\n",
    ")\n",
    "\n",
    "print(\"done\")"
   ]
  },
  {
   "cell_type": "markdown",
   "metadata": {},
   "source": [
    "### CNN Predict"
   ]
  },
  {
   "cell_type": "code",
   "execution_count": 11,
   "metadata": {},
   "outputs": [],
   "source": [
    "y_cat_cnn = np.argmax(y_test_cnn, axis=1)\n",
    "y_hat_cnn = np.argmax(model.predict(X_test_cnn), axis=1)"
   ]
  },
  {
   "cell_type": "code",
   "execution_count": 13,
   "metadata": {},
   "outputs": [
    {
     "data": {
      "image/png": "[encoded data removed]",
      "text/plain": [
       "<matplotlib.figure.Figure at 0x7f70fc32f9d0>"
      ]
     },
     "metadata": {},
     "output_type": "display_data"
    }
   ],
   "source": [
    "from sklearn.metrics import confusion_matrix, accuracy_score\n",
    "import matplotlib.pyplot as plt, seaborn as sns\n",
    "\n",
    "cm = confusion_matrix(y_cat_cnn, y_hat_cnn)\n",
    "cm = cm.astype('float') / cm.sum(axis=1)[:, np.newaxis]\n",
    "\n",
    "acc = accuracy_score(y_cat_cnn, y_hat_cnn)\n",
    "\n",
    "fig, ax = plt.subplots(figsize=(20,10))\n",
    "sns.heatmap(cm, ax=ax, cmap='viridis')\n",
    "plt.title('CNN Test prediciton (Acc:{:.2f}%)'.format(acc*100))\n",
    "plt.show()"
   ]
  },
  {
   "cell_type": "markdown",
   "metadata": {},
   "source": [
    "### Create CoreML Model"
   ]
  },
  {
   "cell_type": "code",
   "execution_count": 14,
   "metadata": {},
   "outputs": [
    {
     "name": "stdout",
     "output_type": "stream",
     "text": [
      "0 : reshape_1_input, <keras.engine.topology.InputLayer object at 0x7f717a41ab10>\n",
      "1 : reshape_1, <keras.layers.core.Reshape object at 0x7f717a41aad0>\n",
      "2 : conv2d_1, <keras.layers.convolutional.Conv2D object at 0x7f717a41ac50>\n",
      "3 : conv2d_1__activation__, <keras.layers.core.Activation object at 0x7f70e0425bd0>\n",
      "4 : conv2d_1_permute_batch_normalization_1, <keras.layers.core.Permute object at 0x7f70e0425910>\n",
      "5 : batch_normalization_1, <keras.layers.normalization.BatchNormalization object at 0x7f717a41acd0>\n",
      "6 : batch_normalization_1_permute_max_pooling2d_1, <keras.layers.core.Permute object at 0x7f70e0425ad0>\n",
      "7 : max_pooling2d_1, <keras.layers.pooling.MaxPooling2D object at 0x7f717a3e5610>\n",
      "8 : conv2d_2, <keras.layers.convolutional.Conv2D object at 0x7f717a392150>\n",
      "9 : conv2d_2__activation__, <keras.layers.core.Activation object at 0x7f70e1da6090>\n",
      "10 : conv2d_2_permute_batch_normalization_2, <keras.layers.core.Permute object at 0x7f70e0425a50>\n",
      "11 : batch_normalization_2, <keras.layers.normalization.BatchNormalization object at 0x7f717a35fd10>\n",
      "12 : batch_normalization_2_permute_max_pooling2d_2, <keras.layers.core.Permute object at 0x7f70e1da6e90>\n",
      "13 : max_pooling2d_2, <keras.layers.pooling.MaxPooling2D object at 0x7f717a3443d0>\n",
      "14 : conv2d_3, <keras.layers.convolutional.Conv2D object at 0x7f717a2dbfd0>\n",
      "15 : conv2d_3__activation__, <keras.layers.core.Activation object at 0x7f70e1da6390>\n",
      "16 : conv2d_3_permute_batch_normalization_3, <keras.layers.core.Permute object at 0x7f70e04253d0>\n",
      "17 : batch_normalization_3, <keras.layers.normalization.BatchNormalization object at 0x7f717a2c0b10>\n",
      "18 : batch_normalization_3_permute_max_pooling2d_3, <keras.layers.core.Permute object at 0x7f70e1da6590>\n",
      "19 : max_pooling2d_3, <keras.layers.pooling.MaxPooling2D object at 0x7f717a2211d0>\n",
      "20 : conv2d_4, <keras.layers.convolutional.Conv2D object at 0x7f717a238d10>\n",
      "21 : conv2d_4__activation__, <keras.layers.core.Activation object at 0x7f70e1da6890>\n",
      "22 : conv2d_4_permute_batch_normalization_4, <keras.layers.core.Permute object at 0x7f70e1da6490>\n",
      "23 : batch_normalization_4, <keras.layers.normalization.BatchNormalization object at 0x7f717a19d910>\n",
      "24 : batch_normalization_4_permute_max_pooling2d_4, <keras.layers.core.Permute object at 0x7f70e1da6550>\n",
      "25 : max_pooling2d_4, <keras.layers.pooling.MaxPooling2D object at 0x7f717a181410>\n",
      "26 : flatten_1, <keras.layers.core.Flatten object at 0x7f717a118b10>\n",
      "27 : dense_1, <keras.layers.core.Dense object at 0x7f717a0fc6d0>\n",
      "28 : dense_1__activation__, <keras.layers.core.Activation object at 0x7f70e1da6e10>\n",
      "29 : batch_normalization_5, <keras.layers.normalization.BatchNormalization object at 0x7f717a0c5810>\n",
      "30 : dense_2, <keras.layers.core.Dense object at 0x7f717a065710>\n",
      "31 : dense_2__activation__, <keras.layers.core.Activation object at 0x7f70e1da6a90>\n",
      "32 : batch_normalization_6, <keras.layers.normalization.BatchNormalization object at 0x7f717a0319d0>\n",
      "33 : dense_3, <keras.layers.core.Dense object at 0x7f717a008490>\n",
      "34 : dense_3__activation__, <keras.layers.core.Activation object at 0x7f70e03c0310>\n"
     ]
    }
   ],
   "source": [
    "coreml_model_cnn = coremltools.converters.keras.convert(\n",
    "    model, \n",
    "    input_names='drawing', \n",
    "    class_labels='50-categories.txt'\n",
    ")\n",
    "\n",
    "coreml_model_cnn.save(model_name+'_array.mlmodel')"
   ]
  },
  {
   "cell_type": "markdown",
   "metadata": {},
   "source": [
    "# Random Forests"
   ]
  },
  {
   "cell_type": "code",
   "execution_count": 15,
   "metadata": {},
   "outputs": [
    {
     "name": "stderr",
     "output_type": "stream",
     "text": [
      "[Parallel(n_jobs=1)]: Done   5 out of   5 | elapsed:    3.1s finished\n"
     ]
    },
    {
     "data": {
      "text/plain": [
       "RandomForestClassifier(bootstrap=True, class_weight=None, criterion='gini',\n",
       "            max_depth=None, max_features='auto', max_leaf_nodes=None,\n",
       "            min_impurity_decrease=0.0, min_impurity_split=None,\n",
       "            min_samples_leaf=1, min_samples_split=2,\n",
       "            min_weight_fraction_leaf=0.0, n_estimators=5, n_jobs=1,\n",
       "            oob_score=False, random_state=None, verbose=1,\n",
       "            warm_start=False)"
      ]
     },
     "execution_count": 15,
     "metadata": {},
     "output_type": "execute_result"
    }
   ],
   "source": [
    "from sklearn.ensemble import RandomForestClassifier\n",
    "\n",
    "trees = 5\n",
    "\n",
    "rf = RandomForestClassifier(\n",
    "    n_estimators=trees,\n",
    "    max_depth=None,\n",
    "    n_jobs=1,\n",
    "    verbose=1,\n",
    "    class_weight=None\n",
    ")\n",
    "\n",
    "rf.fit(X_train_rf, y_train_rf)"
   ]
  },
  {
   "cell_type": "markdown",
   "metadata": {},
   "source": [
    "### Random Forests Predict -- Validation"
   ]
  },
  {
   "cell_type": "code",
   "execution_count": 16,
   "metadata": {},
   "outputs": [
    {
     "name": "stderr",
     "output_type": "stream",
     "text": [
      "[Parallel(n_jobs=1)]: Done   5 out of   5 | elapsed:    0.0s finished\n"
     ]
    }
   ],
   "source": [
    "y_cat_rf_valid = y_valid_rf\n",
    "y_hat_rf_valid = rf.predict(X_valid_rf)"
   ]
  },
  {
   "cell_type": "code",
   "execution_count": 17,
   "metadata": {},
   "outputs": [
    {
     "data": {
      "image/png": "[encoded data removed]",
      "text/plain": [
       "<matplotlib.figure.Figure at 0x7f70e00b3850>"
      ]
     },
     "metadata": {},
     "output_type": "display_data"
    }
   ],
   "source": [
    "from sklearn.metrics import confusion_matrix, accuracy_score\n",
    "import matplotlib.pyplot as plt, seaborn as sns\n",
    "\n",
    "cm = confusion_matrix(y_cat_rf_valid, y_hat_rf_valid)\n",
    "cm = cm.astype('float') / cm.sum(axis=1)[:, np.newaxis]\n",
    "\n",
    "acc = accuracy_score(y_cat_rf_valid, y_hat_rf_valid)\n",
    "\n",
    "fig, ax = plt.subplots(figsize=(20,10))\n",
    "sns.heatmap(cm, ax=ax, cmap='viridis')\n",
    "plt.title('Random Forests Validation prediciton (Acc:{:.2f}%)'.format(acc*100))\n",
    "plt.show()"
   ]
  },
  {
   "cell_type": "markdown",
   "metadata": {},
   "source": [
    "### Random Forests Predict -- Test"
   ]
  },
  {
   "cell_type": "code",
   "execution_count": 18,
   "metadata": {},
   "outputs": [
    {
     "name": "stderr",
     "output_type": "stream",
     "text": [
      "[Parallel(n_jobs=1)]: Done   5 out of   5 | elapsed:    0.0s finished\n"
     ]
    }
   ],
   "source": [
    "y_cat_rf_test = y_test_rf\n",
    "y_hat_rf_test = rf.predict(X_test_rf)"
   ]
  },
  {
   "cell_type": "code",
   "execution_count": 19,
   "metadata": {},
   "outputs": [
    {
     "data": {
      "image/png": "[encoded data removed]",
      "text/plain": [
       "<matplotlib.figure.Figure at 0x7f70e1da6090>"
      ]
     },
     "metadata": {},
     "output_type": "display_data"
    }
   ],
   "source": [
    "from sklearn.metrics import confusion_matrix, accuracy_score\n",
    "import matplotlib.pyplot as plt, seaborn as sns\n",
    "\n",
    "cm = confusion_matrix(y_cat_rf_test, y_hat_rf_test)\n",
    "cm = cm.astype('float') / cm.sum(axis=1)[:, np.newaxis]\n",
    "\n",
    "acc = accuracy_score(y_cat_rf_test, y_hat_rf_test)\n",
    "\n",
    "fig, ax = plt.subplots(figsize=(20,10))\n",
    "sns.heatmap(cm, ax=ax, cmap='viridis')\n",
    "plt.title('Random Forests Validation prediciton (Acc:{:.2f}%)'.format(acc*100))\n",
    "plt.show()"
   ]
  },
  {
   "cell_type": "markdown",
   "metadata": {},
   "source": [
    "### Create CoreML Model"
   ]
  },
  {
   "cell_type": "code",
   "execution_count": 21,
   "metadata": {},
   "outputs": [
    {
     "name": "stdout",
     "output_type": "stream",
     "text": [
      "['airplane', 'apple', 'banana', 'bee', 'bicycle', 'bird', 'birthday cake', 'bowtie', 'butterfly', 'cat', 'chair', 'clock', 'crown', 'dog', 'donut', 'door', 'eyeglasses', 'flower', 'flying saucer', 'hammer', 'hot air balloon', 'hot dog', 'ice cream', 'laptop', 'light bulb', 'moon', 'mug', 'mushroom', 'paper clip', 'pencil', 'power outlet', 'sailboat', 'smiley face', 'snake', 'snowman', 'stairs', 'star', 'stop sign', 'table', 'tennis racquet', 'The Eiffel Tower', 'The Mona Lisa', 'toilet', 'tornado', 'traffic light', 'tree', 'triangle', 't-shirt', 'umbrella', 'wine glass']\n"
     ]
    }
   ],
   "source": [
    "with open('50-categories.txt') as f:\n",
    "    class_names = f.read().splitlines()\n",
    "\n",
    "print(class_names)\n",
    "\n",
    "    "
   ]
  },
  {
   "cell_type": "code",
   "execution_count": 25,
   "metadata": {},
   "outputs": [
    {
     "name": "stdout",
     "output_type": "stream",
     "text": [
      "CPU times: user 16.4 s, sys: 304 ms, total: 16.7 s\n",
      "Wall time: 16.5 s\n"
     ]
    }
   ],
   "source": [
    "%%time\n",
    "\n",
    "model_name = 'rf_50cat_'+ str(samples) +'img_'+ str(trees) +'trees'\n",
    "\n",
    "coreml_model_rf = coremltools.converters.sklearn.convert(\n",
    "    rf,\n",
    "    input_features='drawing',\n",
    "    output_feature_names=\"catagory\"\n",
    ")\n",
    "\n",
    "# oreml_model_cnn = coremltools.converters.keras.convert(\n",
    "#     model, \n",
    "#     input_names='drawing', \n",
    "#     class_labels='50-categories.txt'\n",
    "# )\n",
    "\n",
    "coreml_model_rf.save(model_name+'_array.mlmodel')"
   ]
  },
  {
   "cell_type": "code",
   "execution_count": null,
   "metadata": {},
   "outputs": [],
   "source": []
  }
 ],
 "metadata": {
  "kernelspec": {
   "display_name": "Python 2",
   "language": "python",
   "name": "python2"
  },
  "language_info": {
   "codemirror_mode": {
    "name": "ipython",
    "version": 2
   },
   "file_extension": ".py",
   "mimetype": "text/x-python",
   "name": "python",
   "nbconvert_exporter": "python",
   "pygments_lexer": "ipython2",
   "version": "2.7.14"
  }
 },
 "nbformat": 4,
 "nbformat_minor": 2
}

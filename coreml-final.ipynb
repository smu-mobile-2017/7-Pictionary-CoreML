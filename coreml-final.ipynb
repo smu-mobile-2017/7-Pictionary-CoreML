{
 "cells": [
  {
   "cell_type": "code",
   "execution_count": null,
   "metadata": {},
   "outputs": [],
   "source": [
    "from __future__ import print_function\n",
    "from future_builtins import map, filter, zip"
   ]
  },
  {
   "cell_type": "code",
   "execution_count": null,
   "metadata": {},
   "outputs": [],
   "source": [
    "import tensorflow as tf\n",
    "import keras\n",
    "import coremltools\n",
    "import numpy as np\n",
    "\n",
    "for name, package in [('tensorflow',tf), ('keras',keras), ('coremltools',coremltools), ('numpy', np)]:\n",
    "    try:\n",
    "        print(name + ' v' + package.__version__)\n",
    "    except AttributeError:\n",
    "        print(name + ' v?')"
   ]
  },
  {
   "cell_type": "code",
   "execution_count": null,
   "metadata": {},
   "outputs": [],
   "source": [
    "# Load newline-delimited list of categories\n",
    "\n",
    "# f = open('quickdraw-categories.txt','r')\n",
    "f = open('50-categories.txt','r')\n",
    "categories = [line.rstrip() for line in f]\n",
    "f.close()\n",
    "\n",
    "filename_from_category = lambda s: '../../quickdraw/'+s+'.npy'\n",
    "filenames = list(map(filename_from_category, categories))"
   ]
  },
  {
   "cell_type": "code",
   "execution_count": null,
   "metadata": {},
   "outputs": [],
   "source": [
    "# Test that all files exist according to categories\n",
    "# in quickdraw-categories.txt\n",
    "\n",
    "import os.path\n",
    "\n",
    "all_exist = True\n",
    "for filename in filenames:\n",
    "    if not os.path.isfile(filename):\n",
    "        print('file `{}` does not exist'.format(filename))\n",
    "        all_exist = False\n",
    "if all_exist:\n",
    "    print('All {} files found!'.format(len(categories)))"
   ]
  },
  {
   "cell_type": "code",
   "execution_count": null,
   "metadata": {},
   "outputs": [],
   "source": [
    "def one_hot_vector(index):\n",
    "    hot = np.zeros(len(categories),dtype=np.int8)\n",
    "    hot[index] = 1\n",
    "    return hot\n",
    "\n",
    "def one_hot_array(index):\n",
    "    is_column = False\n",
    "    hot = np.zeros((1,len(categories)),dtype=np.int8)\n",
    "    hot[0,index] = 1\n",
    "    if is_column:\n",
    "        return hot.T\n",
    "    else:\n",
    "        return hot"
   ]
  },
  {
   "cell_type": "code",
   "execution_count": null,
   "metadata": {},
   "outputs": [],
   "source": [
    "import random\n",
    "\n",
    "def make_dataset():\n",
    "    data = []\n",
    "    target = []\n",
    "    for category_index, (category, filename) in enumerate(zip(categories, filenames)):\n",
    "        label_one_hot_encoded = one_hot_vector(category_index)\n",
    "        category_images = np.load(filename)\n",
    "        n_images = category_images.shape[0]\n",
    "        for image in category_images[:samples_per_category]:\n",
    "            image.shape = image_size     #Make Square\n",
    "            data.append(image)\n",
    "            target.append(label_one_hot_encoded)\n",
    "    data = np.array(data)\n",
    "    data = np.expand_dims(data, axis=3)\n",
    "    target = np.array(target)\n",
    "    return (data, target)"
   ]
  },
  {
   "cell_type": "markdown",
   "metadata": {},
   "source": [
    "# Build datasets for CNN/Random Forests"
   ]
  },
  {
   "cell_type": "code",
   "execution_count": null,
   "metadata": {},
   "outputs": [],
   "source": [
    "from sklearn.model_selection import train_test_split\n",
    "\n",
    "\n",
    "####################################################################\n",
    "image_size = (28,28)\n",
    "# Number of samples per 50 categories (Determines full dataset size)\n",
    "samples_per_category = 30000\n",
    "\n",
    "# Percent of dataset used for both validation set and test set\n",
    "split_size = 0.1\n",
    "# Percent of data to subsample for random forests classifier\n",
    "subsample_size = 1\n",
    "####################################################################\n",
    "\n",
    "\n",
    "# Find the total dataset size\n",
    "total_samples = samples_per_category*50\n",
    "print('{} samples selected from every category'.format(samples_per_category))\n",
    "print('{} categories used for total of {} samples'.format(50, total_samples), end='\\n\\n')\n",
    "\n",
    "# Get full dataset\n",
    "data, target = make_dataset()\n",
    "\n",
    "## Subsample dataset\n",
    "samples = int(total_samples*subsample_size)\n",
    "idx = np.random.choice(data.shape[0], samples, replace=False)\n",
    "data_sampled = data[idx]\n",
    "data_sampled.shape = (data_sampled.shape[0], data_sampled.shape[1]*data_sampled.shape[2])\n",
    "target_sampled = target[idx]\n",
    "\n",
    "\n",
    "# Create train(80%), validation(10%), and test(10%) for the CNN\n",
    "X_train_cnn, X_split_cnn, y_train_cnn, y_split_cnn = train_test_split(\n",
    "    data, \n",
    "    target, \n",
    "    test_size=split_size*2, \n",
    "    random_state=42,\n",
    "    stratify=target\n",
    ")\n",
    "X_valid_cnn, X_test_cnn, y_valid_cnn, y_test_cnn = train_test_split(\n",
    "    X_split_cnn, \n",
    "    y_split_cnn, \n",
    "    test_size=0.5, \n",
    "    random_state=42,\n",
    "    stratify=y_split_cnn\n",
    ")\n",
    "print('Convolutional Neural Network datasets')\n",
    "print('{} total samples'.format(total_samples))\n",
    "print('{}% -- {} -- Training set'.format((1-split_size*2)*100, X_train_cnn.shape))\n",
    "print('{}% -- {} -- Validation set'.format(split_size*100, X_valid_cnn.shape))\n",
    "print('{}% -- {} -- Test set'.format(split_size*100, X_test_cnn.shape), end='\\n\\n')\n",
    "\n",
    "\n",
    "# Create train(80%), validation(10%), and test(10%) for the random forest network \n",
    "X_train_rf, X_split_rf, y_train_rf, y_split_rf = train_test_split(\n",
    "    data_sampled,\n",
    "    target_sampled,\n",
    "    test_size=split_size*2,\n",
    "    random_state=42,\n",
    "    stratify=target_sampled\n",
    ")\n",
    "X_valid_rf, X_test_rf, y_valid_rf, y_test_rf = train_test_split(\n",
    "    X_split_rf,\n",
    "    y_split_rf,\n",
    "    test_size=0.5,\n",
    "    random_state=42,\n",
    "    stratify=y_split_rf\n",
    ")\n",
    "print('Random Forests datasets')\n",
    "print('{} total samples distilled down to {} ({}%)'.format(total_samples, samples, subsample_size*100))\n",
    "print('{}% -- {} -- Training set'.format((1-split_size*2)*100, X_train_rf.shape))\n",
    "print('{}% -- {} -- Validation set'.format(split_size*100, X_valid_rf.shape))\n",
    "print('{}% -- {} -- Test set'.format(split_size*100, X_test_rf.shape), end='\\n\\n')"
   ]
  },
  {
   "cell_type": "markdown",
   "metadata": {},
   "source": [
    "# CNN"
   ]
  },
  {
   "cell_type": "code",
   "execution_count": null,
   "metadata": {},
   "outputs": [],
   "source": [
    "import keras\n",
    "from keras.models import Sequential\n",
    "from keras.layers import Reshape, Dense, BatchNormalization, Dropout, \\\n",
    "                         Conv2D, MaxPooling2D, Activation, Flatten, Lambda\n",
    "\n",
    "def _make_convolution_layers(model):\n",
    "    model.add(\n",
    "        Reshape(\n",
    "            # input shape is height, width, channels\n",
    "            (input_shape[0], input_shape[1], 1), \n",
    "            input_shape=(input_shape[0], input_shape[1], 1)\n",
    "        )\n",
    "    )\n",
    "\n",
    "    for filters in n_filters:\n",
    "        # Add a single convolution layer\n",
    "        model.add(\n",
    "            Conv2D(\n",
    "                filters=filters,\n",
    "                kernel_size=(3,3),\n",
    "                padding='same',\n",
    "                activation=layer_activation\n",
    "            )\n",
    "        )\n",
    "        # Add batch normalization to the convolution layer\n",
    "        if batch_normalize:\n",
    "            model.add(\n",
    "                BatchNormalization(axis=1)\n",
    "            )\n",
    "        # Pool the layer\n",
    "        model.add(\n",
    "            # channels_last is required for coremltools\n",
    "            MaxPooling2D(pool_size=(2,2), data_format='channels_last')\n",
    "        )\n",
    "\n",
    "    model.add(Flatten())\n",
    "\n",
    "def _make_dense_layers(model):\n",
    "    for size in dense_sizes:\n",
    "        model.add(\n",
    "            Dense(size, activation=layer_activation)\n",
    "        )\n",
    "        if batch_normalize:\n",
    "            model.add(\n",
    "                BatchNormalization(axis=1)\n",
    "            )\n",
    "    model.add(\n",
    "        Dense(output_size, activation=final_activation)\n",
    "    )\n",
    "\n",
    "def one_hot_output(y_hat_raw):\n",
    "    # predict() outputs floats. We want one-hot in most cases\n",
    "    y_hat = np.zeros(y_hat_raw.shape, dtype=np.int)\n",
    "    y_hat[np.arange(y_hat_raw.shape[0]), y_hat_raw.argmax(1)] = 1\n",
    "    return y_hat"
   ]
  },
  {
   "cell_type": "code",
   "execution_count": null,
   "metadata": {},
   "outputs": [],
   "source": [
    "import os.path\n",
    "from keras.models import load_model\n",
    "import json\n",
    "\n",
    "def cache_fit(model_name, model, *args, **kwargs):\n",
    "    archive_name = model_name+'_model.h5'\n",
    "    history_name = model_name+'_history.json'\n",
    "    archive_exists = os.path.isfile(archive_name)\n",
    "\n",
    "    if not archive_exists:\n",
    "        print('Model '+model_name+' not found in archive. Training new model.')\n",
    "        hist = model.fit(*args, **kwargs)\n",
    "        model.save(archive_name)\n",
    "        with open(history_name, 'w') as f:\n",
    "            json.dump(hist.history, f)\n",
    "        return model\n",
    "    else:\n",
    "        print('Model found on disk. Reloading.')\n",
    "        return load_model(archive_name)"
   ]
  },
  {
   "cell_type": "code",
   "execution_count": null,
   "metadata": {},
   "outputs": [],
   "source": [
    "input_shape=image_size\n",
    "n_filters=[64,64,128,128]\n",
    "dense_sizes=[128,128]\n",
    "output_size=len(categories)\n",
    "\n",
    "batch_normalize = True\n",
    "\n",
    "layer_activation='relu'\n",
    "final_activation='softmax'\n",
    "\n",
    "loss='categorical_crossentropy'\n",
    "optimizer='Nadam'\n",
    "metrics=['categorical_accuracy']\n",
    "\n",
    "#########\n",
    "\n",
    "model = Sequential()\n",
    "\n",
    "_make_convolution_layers(model)\n",
    "_make_dense_layers(model)\n",
    "\n",
    "model.compile(\n",
    "    loss=loss,\n",
    "    optimizer=optimizer,\n",
    "    metrics=metrics\n",
    ")\n",
    "\n",
    "model.summary()\n",
    "\n",
    "model_name = 'cnn_50cat_3000img_4ep_test'\n",
    "\n",
    "model = cache_fit(\n",
    "    model_name, model, \n",
    "    x=X_train_cnn, y=y_train_cnn, \n",
    "    batch_size=32, epochs=4, \n",
    "    verbose=1, validation_data=(X_valid_cnn, y_valid_cnn)\n",
    ")"
   ]
  },
  {
   "cell_type": "markdown",
   "metadata": {},
   "source": [
    "### CNN Predict"
   ]
  },
  {
   "cell_type": "code",
   "execution_count": null,
   "metadata": {},
   "outputs": [],
   "source": [
    "y_cat_cnn = np.argmax(y_test_cnn, axis=1)\n",
    "y_hat_cnn = np.argmax(model.predict(X_test_cnn), axis=1)"
   ]
  },
  {
   "cell_type": "code",
   "execution_count": null,
   "metadata": {},
   "outputs": [],
   "source": [
    "from sklearn.metrics import confusion_matrix, accuracy_score\n",
    "import matplotlib.pyplot as plt, seaborn as sns\n",
    "\n",
    "cm = confusion_matrix(y_cat_cnn, y_hat_cnn)\n",
    "cm = cm.astype('float') / cm.sum(axis=1)[:, np.newaxis]\n",
    "\n",
    "acc = accuracy_score(y_cat_cnn, y_hat_cnn)\n",
    "\n",
    "fig, ax = plt.subplots(figsize=(20,10))\n",
    "sns.heatmap(cm, ax=ax)\n",
    "plt.title('CNN Test prediciton (Acc:{:.2f}%)'.format(acc*100))\n",
    "plt.show()"
   ]
  },
  {
   "cell_type": "markdown",
   "metadata": {},
   "source": [
    "### Create CoreML Model"
   ]
  },
  {
   "cell_type": "code",
   "execution_count": null,
   "metadata": {},
   "outputs": [],
   "source": [
    "coreml_model = coremltools.converters.keras.convert(\n",
    "    model, \n",
    "    input_names='drawing', \n",
    "    image_input_names='drawing', \n",
    "    class_labels='50-categories.txt'\n",
    ")\n",
    "\n",
    "coreml_model.save(model_name+'.mlmodel')"
   ]
  },
  {
   "cell_type": "markdown",
   "metadata": {},
   "source": [
    "# Random Forests"
   ]
  },
  {
   "cell_type": "code",
   "execution_count": null,
   "metadata": {},
   "outputs": [],
   "source": [
    "from sklearn.ensemble import RandomForestClassifier\n",
    "\n",
    "rf = RandomForestClassifier(\n",
    "    n_estimators=30,\n",
    "    max_depth=None,\n",
    "    n_jobs=1,\n",
    "    verbose=1,\n",
    "    class_weight=None\n",
    ")\n",
    "\n",
    "rf.fit(X_train_rf, y_train_rf)"
   ]
  },
  {
   "cell_type": "markdown",
   "metadata": {},
   "source": [
    "### Random Forests Predict -- Validation"
   ]
  },
  {
   "cell_type": "code",
   "execution_count": null,
   "metadata": {},
   "outputs": [],
   "source": [
    "y_cat_rf_valid = np.argmax(y_valid_rf, axis=1)\n",
    "y_hat_rf_valid = np.argmax(rf.predict(X_valid_rf), axis=1)"
   ]
  },
  {
   "cell_type": "code",
   "execution_count": null,
   "metadata": {},
   "outputs": [],
   "source": [
    "from sklearn.metrics import confusion_matrix, accuracy_score\n",
    "import matplotlib.pyplot as plt, seaborn as sns\n",
    "\n",
    "cm = confusion_matrix(y_cat_rf_valid, y_hat_rf_valid)\n",
    "cm = cm.astype('float') / cm.sum(axis=1)[:, np.newaxis]\n",
    "\n",
    "acc = accuracy_score(y_cat_rf_valid, y_hat_rf_valid)\n",
    "\n",
    "fig, ax = plt.subplots(figsize=(20,10))\n",
    "sns.heatmap(cm, ax=ax)\n",
    "plt.title('Random Forests Validation prediciton (Acc:{:.2f}%)'.format(acc*100))\n",
    "plt.show()"
   ]
  },
  {
   "cell_type": "markdown",
   "metadata": {},
   "source": [
    "### Random Forests Predict -- Test"
   ]
  },
  {
   "cell_type": "code",
   "execution_count": null,
   "metadata": {},
   "outputs": [],
   "source": [
    "y_cat_rf_test = np.argmax(y_test_rf, axis=1)\n",
    "y_hat_rf_test = np.argmax(rf.predict(X_test_rf), axis=1)"
   ]
  },
  {
   "cell_type": "code",
   "execution_count": null,
   "metadata": {},
   "outputs": [],
   "source": [
    "from sklearn.metrics import confusion_matrix, accuracy_score\n",
    "import matplotlib.pyplot as plt, seaborn as sns\n",
    "\n",
    "cm = confusion_matrix(y_cat_rf_test, y_hat_rf_test)\n",
    "cm = cm.astype('float') / cm.sum(axis=1)[:, np.newaxis]\n",
    "\n",
    "acc = accuracy_score(y_cat_rf_test, y_hat_rf_test)\n",
    "\n",
    "fig, ax = plt.subplots(figsize=(20,10))\n",
    "sns.heatmap(cm, ax=ax)\n",
    "plt.title('Random Forests Validation prediciton (Acc:{:.2f}%)'.format(acc*100))\n",
    "plt.show()"
   ]
  }
 ],
 "metadata": {
  "kernelspec": {
   "display_name": "Python 2",
   "language": "python",
   "name": "python2"
  },
  "language_info": {
   "codemirror_mode": {
    "name": "ipython",
    "version": 2
   },
   "file_extension": ".py",
   "mimetype": "text/x-python",
   "name": "python",
   "nbconvert_exporter": "python",
   "pygments_lexer": "ipython2",
   "version": "2.7.14"
  }
 },
 "nbformat": 4,
 "nbformat_minor": 2
}
